{
 "cells": [
  {
   "cell_type": "markdown",
   "metadata": {},
   "source": [
    "<h1>How to import OmniPath data into R igraph</h1>"
   ]
  },
  {
   "cell_type": "code",
   "execution_count": 26,
   "metadata": {},
   "outputs": [],
   "source": [
    "source('https://raw.githubusercontent.com/saezlab/pypath/master/r_import/r_import.r')"
   ]
  },
  {
   "cell_type": "code",
   "execution_count": 3,
   "metadata": {
    "collapsed": true
   },
   "outputs": [],
   "source": [
    "op <- omnipath_graph()"
   ]
  },
  {
   "cell_type": "code",
   "execution_count": 4,
   "metadata": {
    "collapsed": true
   },
   "outputs": [],
   "source": [
    "op <- omnipath_graph(directed = TRUE)"
   ]
  },
  {
   "cell_type": "code",
   "execution_count": 5,
   "metadata": {},
   "outputs": [
    {
     "data": {
      "text/html": [
       "TRUE"
      ],
      "text/latex": [
       "TRUE"
      ],
      "text/markdown": [
       "TRUE"
      ],
      "text/plain": [
       "[1] TRUE"
      ]
     },
     "metadata": {},
     "output_type": "display_data"
    }
   ],
   "source": [
    "is.directed(op)"
   ]
  },
  {
   "cell_type": "code",
   "execution_count": 6,
   "metadata": {},
   "outputs": [
    {
     "data": {
      "text/plain": [
       "+ 1/6997 vertex, named, from f417565:\n",
       "[1] Q13616"
      ]
     },
     "metadata": {},
     "output_type": "display_data"
    }
   ],
   "source": [
    "V(op)[1]"
   ]
  },
  {
   "cell_type": "code",
   "execution_count": 7,
   "metadata": {},
   "outputs": [
    {
     "data": {
      "text/html": [
       "'CUL1'"
      ],
      "text/latex": [
       "'CUL1'"
      ],
      "text/markdown": [
       "'CUL1'"
      ],
      "text/plain": [
       "[1] \"CUL1\""
      ]
     },
     "metadata": {},
     "output_type": "display_data"
    }
   ],
   "source": [
    "V(op)[1]$label"
   ]
  },
  {
   "cell_type": "code",
   "execution_count": 14,
   "metadata": {},
   "outputs": [
    {
     "data": {
      "text/html": [
       "1"
      ],
      "text/latex": [
       "1"
      ],
      "text/markdown": [
       "1"
      ],
      "text/plain": [
       "[1] 1"
      ]
     },
     "metadata": {},
     "output_type": "display_data"
    }
   ],
   "source": [
    "E(op)[19]$is_stimulation"
   ]
  },
  {
   "cell_type": "code",
   "execution_count": 15,
   "metadata": {},
   "outputs": [
    {
     "data": {
      "text/html": [
       "<ol>\n",
       "\t<li><ol class=list-inline>\n",
       "\t<li>'HPRD'</li>\n",
       "\t<li>'Laudanna_effects'</li>\n",
       "\t<li>'DIP'</li>\n",
       "\t<li>'BioGRID'</li>\n",
       "\t<li>'SignaLink3'</li>\n",
       "\t<li>'ACSN'</li>\n",
       "\t<li>'IntAct'</li>\n",
       "\t<li>'InnateDB'</li>\n",
       "\t<li>'CancerCellMap'</li>\n",
       "\t<li>'Laudanna_sigflow'</li>\n",
       "\t<li>'Wang'</li>\n",
       "</ol>\n",
       "</li>\n",
       "</ol>\n"
      ],
      "text/latex": [
       "\\begin{enumerate}\n",
       "\\item \\begin{enumerate*}\n",
       "\\item 'HPRD'\n",
       "\\item 'Laudanna\\_effects'\n",
       "\\item 'DIP'\n",
       "\\item 'BioGRID'\n",
       "\\item 'SignaLink3'\n",
       "\\item 'ACSN'\n",
       "\\item 'IntAct'\n",
       "\\item 'InnateDB'\n",
       "\\item 'CancerCellMap'\n",
       "\\item 'Laudanna\\_sigflow'\n",
       "\\item 'Wang'\n",
       "\\end{enumerate*}\n",
       "\n",
       "\\end{enumerate}\n"
      ],
      "text/markdown": [
       "1. 1. 'HPRD'\n",
       "2. 'Laudanna_effects'\n",
       "3. 'DIP'\n",
       "4. 'BioGRID'\n",
       "5. 'SignaLink3'\n",
       "6. 'ACSN'\n",
       "7. 'IntAct'\n",
       "8. 'InnateDB'\n",
       "9. 'CancerCellMap'\n",
       "10. 'Laudanna_sigflow'\n",
       "11. 'Wang'\n",
       "\n",
       "\n",
       "\n",
       "\n",
       "\n"
      ],
      "text/plain": [
       "[[1]]\n",
       " [1] \"HPRD\"             \"Laudanna_effects\" \"DIP\"              \"BioGRID\"         \n",
       " [5] \"SignaLink3\"       \"ACSN\"             \"IntAct\"           \"InnateDB\"        \n",
       " [9] \"CancerCellMap\"    \"Laudanna_sigflow\" \"Wang\"            \n"
      ]
     },
     "metadata": {},
     "output_type": "display_data"
    }
   ],
   "source": [
    "E(op)[19]$sources"
   ]
  },
  {
   "cell_type": "code",
   "execution_count": 16,
   "metadata": {},
   "outputs": [
    {
     "data": {
      "text/html": [
       "<ol>\n",
       "\t<li><ol class=list-inline>\n",
       "\t<li>'18805092'</li>\n",
       "\t<li>'11961546'</li>\n",
       "\t<li>'12504026'</li>\n",
       "\t<li>'11961546'</li>\n",
       "\t<li>'11956208'</li>\n",
       "\t<li>'10648623'</li>\n",
       "\t<li>'12417738'</li>\n",
       "\t<li>'12609982'</li>\n",
       "\t<li>'11961546'</li>\n",
       "\t<li>'20399188'</li>\n",
       "\t<li>'21765416'</li>\n",
       "\t<li>'12381738'</li>\n",
       "\t<li>'11956208'</li>\n",
       "\t<li>'10648623'</li>\n",
       "\t<li>'11245432'</li>\n",
       "\t<li>'16275325'</li>\n",
       "\t<li>'12684064'</li>\n",
       "\t<li>'21765416'</li>\n",
       "\t<li>'12706828'</li>\n",
       "\t<li>'26725323'</li>\n",
       "\t<li>'11861641'</li>\n",
       "\t<li>'16123592'</li>\n",
       "\t<li>'12215511'</li>\n",
       "\t<li>'16880526'</li>\n",
       "\t<li>'24949976'</li>\n",
       "\t<li>'19250909'</li>\n",
       "\t<li>'10748083'</li>\n",
       "\t<li>'23770852'</li>\n",
       "\t<li>'21169563'</li>\n",
       "\t<li>'15860010'</li>\n",
       "\t<li>'26540345'</li>\n",
       "\t<li>'11384984'</li>\n",
       "\t<li>'10713156'</li>\n",
       "\t<li>'22474075'</li>\n",
       "\t<li>'23535663'</li>\n",
       "\t<li>'17452440'</li>\n",
       "\t<li>'15361859'</li>\n",
       "\t<li>'12417738'</li>\n",
       "\t<li>'17158585'</li>\n",
       "\t<li>'22822056'</li>\n",
       "\t<li>'20638939'</li>\n",
       "\t<li>'19942853'</li>\n",
       "\t<li>'12504025'</li>\n",
       "\t<li>'12481031'</li>\n",
       "\t<li>'12167173'</li>\n",
       "\t<li>'22767593'</li>\n",
       "\t<li>'19933270'</li>\n",
       "\t<li>'26344197'</li>\n",
       "\t<li>'12609982'</li>\n",
       "\t<li>'15659098'</li>\n",
       "\t<li>'19245792'</li>\n",
       "\t<li>'12565873'</li>\n",
       "\t<li>'18805092'</li>\n",
       "\t<li>'15749712'</li>\n",
       "\t<li>'15448697'</li>\n",
       "\t<li>'12840033'</li>\n",
       "\t<li>'11337588'</li>\n",
       "\t<li>'11027288'</li>\n",
       "\t<li>'11483504'</li>\n",
       "\t<li>'16759355'</li>\n",
       "\t<li>'11961546'</li>\n",
       "\t<li>'20832730'</li>\n",
       "\t<li>'12904573'</li>\n",
       "\t<li>'10230406'</li>\n",
       "\t<li>'10230407'</li>\n",
       "\t<li>'22405651'</li>\n",
       "\t<li>'18826954'</li>\n",
       "\t<li>'11359933'</li>\n",
       "\t<li>'19933270'</li>\n",
       "\t<li>'10713156'</li>\n",
       "\t<li>'12706828'</li>\n",
       "\t<li>'12609982'</li>\n",
       "\t<li>'11956208'</li>\n",
       "\t<li>'10648623'</li>\n",
       "\t<li>'11861641'</li>\n",
       "\t<li>'10535940'</li>\n",
       "\t<li>'16759355'</li>\n",
       "\t<li>'11961546'</li>\n",
       "\t<li>'10230407'</li>\n",
       "\t<li>'20832730'</li>\n",
       "\t<li>'10230406'</li>\n",
       "</ol>\n",
       "</li>\n",
       "</ol>\n"
      ],
      "text/latex": [
       "\\begin{enumerate}\n",
       "\\item \\begin{enumerate*}\n",
       "\\item '18805092'\n",
       "\\item '11961546'\n",
       "\\item '12504026'\n",
       "\\item '11961546'\n",
       "\\item '11956208'\n",
       "\\item '10648623'\n",
       "\\item '12417738'\n",
       "\\item '12609982'\n",
       "\\item '11961546'\n",
       "\\item '20399188'\n",
       "\\item '21765416'\n",
       "\\item '12381738'\n",
       "\\item '11956208'\n",
       "\\item '10648623'\n",
       "\\item '11245432'\n",
       "\\item '16275325'\n",
       "\\item '12684064'\n",
       "\\item '21765416'\n",
       "\\item '12706828'\n",
       "\\item '26725323'\n",
       "\\item '11861641'\n",
       "\\item '16123592'\n",
       "\\item '12215511'\n",
       "\\item '16880526'\n",
       "\\item '24949976'\n",
       "\\item '19250909'\n",
       "\\item '10748083'\n",
       "\\item '23770852'\n",
       "\\item '21169563'\n",
       "\\item '15860010'\n",
       "\\item '26540345'\n",
       "\\item '11384984'\n",
       "\\item '10713156'\n",
       "\\item '22474075'\n",
       "\\item '23535663'\n",
       "\\item '17452440'\n",
       "\\item '15361859'\n",
       "\\item '12417738'\n",
       "\\item '17158585'\n",
       "\\item '22822056'\n",
       "\\item '20638939'\n",
       "\\item '19942853'\n",
       "\\item '12504025'\n",
       "\\item '12481031'\n",
       "\\item '12167173'\n",
       "\\item '22767593'\n",
       "\\item '19933270'\n",
       "\\item '26344197'\n",
       "\\item '12609982'\n",
       "\\item '15659098'\n",
       "\\item '19245792'\n",
       "\\item '12565873'\n",
       "\\item '18805092'\n",
       "\\item '15749712'\n",
       "\\item '15448697'\n",
       "\\item '12840033'\n",
       "\\item '11337588'\n",
       "\\item '11027288'\n",
       "\\item '11483504'\n",
       "\\item '16759355'\n",
       "\\item '11961546'\n",
       "\\item '20832730'\n",
       "\\item '12904573'\n",
       "\\item '10230406'\n",
       "\\item '10230407'\n",
       "\\item '22405651'\n",
       "\\item '18826954'\n",
       "\\item '11359933'\n",
       "\\item '19933270'\n",
       "\\item '10713156'\n",
       "\\item '12706828'\n",
       "\\item '12609982'\n",
       "\\item '11956208'\n",
       "\\item '10648623'\n",
       "\\item '11861641'\n",
       "\\item '10535940'\n",
       "\\item '16759355'\n",
       "\\item '11961546'\n",
       "\\item '10230407'\n",
       "\\item '20832730'\n",
       "\\item '10230406'\n",
       "\\end{enumerate*}\n",
       "\n",
       "\\end{enumerate}\n"
      ],
      "text/markdown": [
       "1. 1. '18805092'\n",
       "2. '11961546'\n",
       "3. '12504026'\n",
       "4. '11961546'\n",
       "5. '11956208'\n",
       "6. '10648623'\n",
       "7. '12417738'\n",
       "8. '12609982'\n",
       "9. '11961546'\n",
       "10. '20399188'\n",
       "11. '21765416'\n",
       "12. '12381738'\n",
       "13. '11956208'\n",
       "14. '10648623'\n",
       "15. '11245432'\n",
       "16. '16275325'\n",
       "17. '12684064'\n",
       "18. '21765416'\n",
       "19. '12706828'\n",
       "20. '26725323'\n",
       "21. '11861641'\n",
       "22. '16123592'\n",
       "23. '12215511'\n",
       "24. '16880526'\n",
       "25. '24949976'\n",
       "26. '19250909'\n",
       "27. '10748083'\n",
       "28. '23770852'\n",
       "29. '21169563'\n",
       "30. '15860010'\n",
       "31. '26540345'\n",
       "32. '11384984'\n",
       "33. '10713156'\n",
       "34. '22474075'\n",
       "35. '23535663'\n",
       "36. '17452440'\n",
       "37. '15361859'\n",
       "38. '12417738'\n",
       "39. '17158585'\n",
       "40. '22822056'\n",
       "41. '20638939'\n",
       "42. '19942853'\n",
       "43. '12504025'\n",
       "44. '12481031'\n",
       "45. '12167173'\n",
       "46. '22767593'\n",
       "47. '19933270'\n",
       "48. '26344197'\n",
       "49. '12609982'\n",
       "50. '15659098'\n",
       "51. '19245792'\n",
       "52. '12565873'\n",
       "53. '18805092'\n",
       "54. '15749712'\n",
       "55. '15448697'\n",
       "56. '12840033'\n",
       "57. '11337588'\n",
       "58. '11027288'\n",
       "59. '11483504'\n",
       "60. '16759355'\n",
       "61. '11961546'\n",
       "62. '20832730'\n",
       "63. '12904573'\n",
       "64. '10230406'\n",
       "65. '10230407'\n",
       "66. '22405651'\n",
       "67. '18826954'\n",
       "68. '11359933'\n",
       "69. '19933270'\n",
       "70. '10713156'\n",
       "71. '12706828'\n",
       "72. '12609982'\n",
       "73. '11956208'\n",
       "74. '10648623'\n",
       "75. '11861641'\n",
       "76. '10535940'\n",
       "77. '16759355'\n",
       "78. '11961546'\n",
       "79. '10230407'\n",
       "80. '20832730'\n",
       "81. '10230406'\n",
       "\n",
       "\n",
       "\n",
       "\n",
       "\n"
      ],
      "text/plain": [
       "[[1]]\n",
       " [1] \"18805092\" \"11961546\" \"12504026\" \"11961546\" \"11956208\" \"10648623\"\n",
       " [7] \"12417738\" \"12609982\" \"11961546\" \"20399188\" \"21765416\" \"12381738\"\n",
       "[13] \"11956208\" \"10648623\" \"11245432\" \"16275325\" \"12684064\" \"21765416\"\n",
       "[19] \"12706828\" \"26725323\" \"11861641\" \"16123592\" \"12215511\" \"16880526\"\n",
       "[25] \"24949976\" \"19250909\" \"10748083\" \"23770852\" \"21169563\" \"15860010\"\n",
       "[31] \"26540345\" \"11384984\" \"10713156\" \"22474075\" \"23535663\" \"17452440\"\n",
       "[37] \"15361859\" \"12417738\" \"17158585\" \"22822056\" \"20638939\" \"19942853\"\n",
       "[43] \"12504025\" \"12481031\" \"12167173\" \"22767593\" \"19933270\" \"26344197\"\n",
       "[49] \"12609982\" \"15659098\" \"19245792\" \"12565873\" \"18805092\" \"15749712\"\n",
       "[55] \"15448697\" \"12840033\" \"11337588\" \"11027288\" \"11483504\" \"16759355\"\n",
       "[61] \"11961546\" \"20832730\" \"12904573\" \"10230406\" \"10230407\" \"22405651\"\n",
       "[67] \"18826954\" \"11359933\" \"19933270\" \"10713156\" \"12706828\" \"12609982\"\n",
       "[73] \"11956208\" \"10648623\" \"11861641\" \"10535940\" \"16759355\" \"11961546\"\n",
       "[79] \"10230407\" \"20832730\" \"10230406\"\n"
      ]
     },
     "metadata": {},
     "output_type": "display_data"
    }
   ],
   "source": [
    "E(op)[19]$references"
   ]
  },
  {
   "cell_type": "code",
   "execution_count": 22,
   "metadata": {},
   "outputs": [
    {
     "data": {
      "text/plain": [
       "+ 1/42503 edge from f417565 (vertex names):\n",
       "[1] P62877->Q13616"
      ]
     },
     "metadata": {},
     "output_type": "display_data"
    }
   ],
   "source": [
    "E(op)[19]"
   ]
  },
  {
   "cell_type": "code",
   "execution_count": 24,
   "metadata": {},
   "outputs": [
    {
     "data": {
      "text/html": [
       "<ol class=list-inline>\n",
       "\t<li>'RBX1'</li>\n",
       "\t<li>'CUL1'</li>\n",
       "</ol>\n"
      ],
      "text/latex": [
       "\\begin{enumerate*}\n",
       "\\item 'RBX1'\n",
       "\\item 'CUL1'\n",
       "\\end{enumerate*}\n"
      ],
      "text/markdown": [
       "1. 'RBX1'\n",
       "2. 'CUL1'\n",
       "\n",
       "\n"
      ],
      "text/plain": [
       "[1] \"RBX1\" \"CUL1\""
      ]
     },
     "metadata": {},
     "output_type": "display_data"
    }
   ],
   "source": [
    "c(V(op)['P62877']$label, V(op)['Q13616']$label)"
   ]
  },
  {
   "cell_type": "code",
   "execution_count": null,
   "metadata": {
    "collapsed": true
   },
   "outputs": [],
   "source": []
  }
 ],
 "metadata": {
  "kernelspec": {
   "display_name": "R",
   "language": "R",
   "name": "ir"
  },
  "language_info": {
   "codemirror_mode": "r",
   "file_extension": ".r",
   "mimetype": "text/x-r-source",
   "name": "R",
   "pygments_lexer": "r",
   "version": "3.4.1"
  }
 },
 "nbformat": 4,
 "nbformat_minor": 2
}
