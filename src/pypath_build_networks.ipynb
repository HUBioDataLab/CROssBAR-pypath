{
 "cells": [
  {
   "cell_type": "markdown",
   "metadata": {},
   "source": [
    "Quick start 1: How do I build *OmniPath* data with *pypath*?\n",
    "========================================================\n",
    "``pypath`` provides an easy way to build the OmniPath network as it has been described in our paper. At the first time this will take several minutes, because all data will be downloaded from the original providers. Next time pypath will use the data from its cache directory, so the network will build much faster. If you want to load it even faster, you can save it into a pickle dump."
   ]
  },
  {
   "cell_type": "code",
   "execution_count": null,
   "metadata": {
    "collapsed": true
   },
   "outputs": [],
   "source": [
    "import pypath\n",
    "\n",
    "pa = pypath.PyPath()\n",
    "pa.load_omnipath()"
   ]
  },
  {
   "cell_type": "markdown",
   "metadata": {},
   "source": [
    "Quick start 2: I just want a network quickly and play around with *pypath*\n",
    "============================================================================\n",
    "You can find the predefined formats in the ``pypath.data_formats`` module. For example, to load one resource from there, let's say Signor:"
   ]
  },
  {
   "cell_type": "code",
   "execution_count": null,
   "metadata": {
    "collapsed": true
   },
   "outputs": [],
   "source": [
    "import pypath\n",
    "pa = pypath.PyPath()\n",
    "pa.load_resources({'signor': pypath.data_formats.pathway['signor']})"
   ]
  },
  {
   "cell_type": "markdown",
   "metadata": {},
   "source": [
    "Or to load all *process description* resources:"
   ]
  },
  {
   "cell_type": "code",
   "execution_count": null,
   "metadata": {
    "collapsed": true
   },
   "outputs": [],
   "source": [
    "import pypath\n",
    "pa = pypath.PyPath()\n",
    "pa.init_network(pypath.data_formats.pathway)"
   ]
  },
  {
   "cell_type": "markdown",
   "metadata": {},
   "source": [
    "Quick start 3: How do I build networks from any data with *pypath*?\n",
    "=================================================================\n",
    "Here we show how to build a network from your own files. The advantage of building network with pypath is that you don't need to worry about merging redundant elements, neither about different formats and identifiers. Let's say you have two files with network data:\n",
    "\n",
    "**network1.csv**\n",
    "\n",
    "    entrezA,entrezB,effect\n",
    "    1950,1956,inhibition\n",
    "    5290,207,stimulation\n",
    "    207,2932,inhibition\n",
    "    1956,5290,stimulation\n",
    "\n",
    "**network2.sif**\n",
    "\n",
    "    EGF + EGFR\n",
    "    EGFR + PIK3CA\n",
    "    EGFR + SOS1\n",
    "    PIK3CA + RAC1\n",
    "    RAC1 + MAP3K1\n",
    "    SOS1 + HRAS\n",
    "    HRAS + MAP3K1\n",
    "    PIK3CA + AKT1\n",
    "    AKT1 - GSK3B\n",
    "    \n",
    "*Note: you need to create these files in order to load them.*\n",
    "\n",
    "1: Defining input formats\n",
    "-------------------------"
   ]
  },
  {
   "cell_type": "code",
   "execution_count": 1,
   "metadata": {},
   "outputs": [],
   "source": [
    "import pypath\n",
    "import pypath.input_formats as input_formats\n",
    "\n",
    "input1 = input_formats.ReadSettings(\n",
    "    name = 'egf1',\n",
    "    inFile = 'network1.csv',\n",
    "    header = True,\n",
    "    separator = ',',\n",
    "    nameColA = 0,\n",
    "    nameColB = 1,\n",
    "    nameTypeA = 'entrez',\n",
    "    nameTypeB = 'entrez',\n",
    "    sign = (2, 'stimulation', 'inhibition')\n",
    ")\n",
    "\n",
    "input2 = input_formats.ReadSettings(\n",
    "    name = 'egf2',\n",
    "    inFile = 'network2.sif',\n",
    "    separator = ' ',\n",
    "    nameColA = 0,\n",
    "    nameColB = 2,\n",
    "    nameTypeA = 'genesymbol',\n",
    "    nameTypeB = 'genesymbol',\n",
    "    sign = (1, '+', '-')\n",
    ")"
   ]
  },
  {
   "cell_type": "markdown",
   "metadata": {},
   "source": [
    "2: Creating PyPath object and loading the 2 test files\n",
    "------------------------------------------------------"
   ]
  },
  {
   "cell_type": "code",
   "execution_count": 2,
   "metadata": {},
   "outputs": [
    {
     "name": "stdout",
     "output_type": "stream",
     "text": [
      "\n",
      "\n",
      "\t=== d i s c l a i m e r ===\n",
      "\n",
      "\tAll data coming with this module\n",
      "\teither as redistributed copy or downloaded using the\n",
      "\tprogrammatic interfaces included in the present module\n",
      "\tare available under public domain, are free to use at\n",
      "\tleast for academic research or education purposes.\n",
      "\tPlease be aware of the licences of all the datasets\n",
      "\tyou use in your analysis, and please give appropriate\n",
      "\tcredits for the original sources when you publish your\n",
      "\tresults. To find out more about data sources please\n",
      "\tlook at `pypath.descriptions` and\n",
      "\t`pypath.data_formats.urls`.\n",
      "\n",
      "\t» New session started,\n",
      "\tsession ID: 'g0p8r'\n",
      "\tlogfile:'./log/g0p8r.log'.\n",
      "\t:: Loading data from cache previously downloaded from www.uniprot.org\n",
      "\t:: Ready. Resulted `plain text` of type file object. \n",
      "\t:: Local file at `/home/denes/Dokumentumok/pw/dev/src/cache/ec920965677ac83b8805d72853c79d45-`.\n",
      "\t:: Loading data from cache previously downloaded from www.uniprot.org\n",
      "\t:: Ready. Resulted `plain text` of type file object. \n",
      "\t:: Local file at `/home/denes/Dokumentumok/pw/dev/src/cache/ec920965677ac83b8805d72853c79d45-`.\n",
      "\t:: Loading data from cache previously downloaded from ftp.uniprot.org\n",
      "\t:: Ready. Resulted `gz extracted data` of type file object. \n",
      "\t:: Local file at `/home/denes/Dokumentumok/pw/dev/src/cache/079410d8e3f429e7699c167b9d4ef3b7-HUMAN_9606_idmapping.dat.gz`.\n",
      "\t:: Processing ID conversion list: finished, 100.0% [0:00:06 elapsed]\n",
      " » egf2\n",
      "\t:: Loading 'genesymbol' to 'uniprot' mapping table\n",
      "\t:: Loading 'uniprot-sec' to 'uniprot-pri' mapping table\n",
      "\t:: Loading 'genesymbol' to 'trembl' mapping table\n",
      "\t:: Processing nodes: finished, 100.0% [0:00:00 elapsed]\n",
      "\t:: Processing edges: finished, 100.0% [0:00:00 elapsed]\n",
      "\t:: Processing attributes: finished, 100.0% [0:00:00 elapsed]\n",
      " » egf1\n",
      "\t:: Loading 'genesymbol' to 'swissprot' mapping table\n",
      "\t:: Processing nodes: finished, 100.0% [0:00:00 elapsed]\n",
      "\t:: Processing edges: finished, 100.0% [0:00:00 elapsed]\n",
      "\t:: Processing attributes: finished, 100.0% [0:00:00 elapsed]\n",
      "\n",
      " :: Comparing with reference lists... done.\n",
      "\n",
      " » 9 interactions between 9 nodes\n",
      " from 2 resources have been loaded,\n",
      " for details see the log: ./log/g0p8r.log\n"
     ]
    }
   ],
   "source": [
    "inputs = {\n",
    "    'egf1': input1,\n",
    "    'egf2': input2\n",
    "}\n",
    "\n",
    "pa = pypath.PyPath()\n",
    "pa.reload()\n",
    "pa.init_network(lst = inputs)"
   ]
  },
  {
   "cell_type": "markdown",
   "metadata": {},
   "source": [
    "3: Plotting the network with igraph\n",
    "-----------------------------------"
   ]
  },
  {
   "cell_type": "code",
   "execution_count": 3,
   "metadata": {},
   "outputs": [
    {
     "data": {
      "image/png": "[encoded data removed]",
      "text/plain": [
       "<IPython.core.display.Image object>"
      ]
     },
     "execution_count": 3,
     "metadata": {},
     "output_type": "execute_result"
    }
   ],
   "source": [
    "import igraph\n",
    "plot = igraph.plot(pa.graph, target = 'egf_network.png',\n",
    "            edge_width = 0.3, edge_color = '#777777',\n",
    "            vertex_color = '#97BE73', vertex_frame_width = 0,\n",
    "            vertex_size = 70.0, vertex_label_size = 15,\n",
    "            vertex_label_color = '#FFFFFF',\n",
    "            # due to a bug in either igraph or IPython, \n",
    "            # vertex labels are not visible on inline plots:\n",
    "            inline = False)\n",
    "\n",
    "from IPython.display import Image\n",
    "Image(filename='egf_network.png')"
   ]
  },
  {
   "cell_type": "markdown",
   "metadata": {},
   "source": [
    "4: Querying the PyPath object\n",
    "-----------------------------\n",
    "This object offers many methods for analysing the network and also for integrating additional data. Let's see some examples. List those proteins stimulating the protein PIK3CA:"
   ]
  },
  {
   "cell_type": "code",
   "execution_count": 4,
   "metadata": {},
   "outputs": [
    {
     "name": "stdout",
     "output_type": "stream",
     "text": [
      "\t:: Setting directions: finished, 100.0% [0:00:00 elapsed]\n"
     ]
    },
    {
     "data": {
      "text/plain": [
       "['EGFR']"
      ]
     },
     "execution_count": 4,
     "metadata": {},
     "output_type": "execute_result"
    }
   ],
   "source": [
    "list(pa.gs_stimulated_by('PIK3CA').gs())"
   ]
  },
  {
   "cell_type": "markdown",
   "metadata": {},
   "source": [
    "And those stimulated by PIK3CA:"
   ]
  },
  {
   "cell_type": "code",
   "execution_count": 5,
   "metadata": {},
   "outputs": [
    {
     "data": {
      "text/plain": [
       "['AKT1', 'RAC1']"
      ]
     },
     "execution_count": 5,
     "metadata": {},
     "output_type": "execute_result"
    }
   ],
   "source": [
    "list(pa.gs_stimulates('PIK3CA').gs())"
   ]
  },
  {
   "cell_type": "markdown",
   "metadata": {},
   "source": [
    "In the background in order to run these queries, pypath converted the network to a directed graph:"
   ]
  },
  {
   "cell_type": "code",
   "execution_count": 7,
   "metadata": {},
   "outputs": [
    {
     "name": "stdout",
     "output_type": "stream",
     "text": [
      "pa.graph is directed: False\n",
      "pa.dgraph is directed: True\n"
     ]
    }
   ],
   "source": [
    "import sys\n",
    "# the original, undirected igraph object:\n",
    "sys.stdout.write('pa.graph is directed: %s\\n' % pa.graph.is_directed())\n",
    "# the directed one:\n",
    "sys.stdout.write('pa.dgraph is directed: %s\\n' % pa.dgraph.is_directed())"
   ]
  },
  {
   "cell_type": "markdown",
   "metadata": {},
   "source": [
    "5: Loading more data\n",
    "--------------------"
   ]
  },
  {
   "cell_type": "code",
   "execution_count": 8,
   "metadata": {},
   "outputs": [
    {
     "name": "stdout",
     "output_type": "stream",
     "text": [
      "\t:: Loading data from cache previously downloaded from www.uniprot.org\n",
      "\t:: Ready. Resulted `plain text` of type file object. \n",
      "\t:: Local file at `/home/denes/Dokumentumok/pw/dev/src/cache/ec920965677ac83b8805d72853c79d45-`.\n",
      " » DeathDomain\n",
      "\t:: Reading from cache: cache/deathdomain.edges.pickle\n",
      "\t:: Processing nodes: finished, 100.0% [0:00:00 elapsed]\n",
      "\t:: Processing edges: finished, 100.0% [0:00:00 elapsed]\n",
      "\t:: Processing attributes: finished, 100.0% [0:00:00 elapsed]\n",
      " » PDZBase\n",
      "\t:: Reading from cache: cache/pdzbase.edges.pickle\n",
      "\t:: Processing nodes: finished, 100.0% [0:00:00 elapsed]\n",
      "\t:: Processing edges: finished, 100.0% [0:00:00 elapsed]\n",
      "\t:: Processing attributes: finished, 100.0% [0:00:00 elapsed]\n",
      " » Guide2Pharma\n",
      "\t:: Reading from cache: cache/guide2pharma.edges.pickle\n",
      "\t:: Processing nodes: finished, 100.0% [0:00:00 elapsed]\n",
      "\t:: Processing edges: finished, 100.0% [0:00:00 elapsed]\n",
      "\t:: Processing attributes: finished, 100.0% [0:00:00 elapsed]\n",
      " » SignaLink3\n",
      "\t:: Reading from cache: cache/signalink3.edges.pickle\n",
      "\t:: Processing nodes: finished, 100.0% [0:00:00 elapsed]\n",
      "\t:: Processing edges: finished, 100.0% [0:00:00 elapsed]\n",
      "\t:: Processing attributes: finished, 100.0% [0:00:01 elapsed]\n",
      " » CA1\n",
      "\t:: Reading from cache: cache/ca1.edges.pickle\n",
      "\t:: Processing nodes: finished, 100.0% [0:00:00 elapsed]\n",
      "\t:: Processing edges: finished, 100.0% [0:00:00 elapsed]\n",
      "\t:: Processing attributes: finished, 100.0% [0:00:00 elapsed]\n",
      " » ARN\n",
      "\t:: Reading from cache: cache/arn.edges.pickle\n",
      "\t:: Processing nodes: finished, 100.0% [0:00:00 elapsed]\n",
      "\t:: Processing edges: finished, 100.0% [0:00:00 elapsed]\n",
      "\t:: Processing attributes: finished, 100.0% [0:00:00 elapsed]\n",
      " » SPIKE\n",
      "\t:: Reading from cache: cache/spike.edges.pickle\n",
      "\t:: Processing nodes: finished, 100.0% [0:00:00 elapsed]\n",
      "\t:: Processing edges: finished, 100.0% [0:00:00 elapsed]\n",
      "\t:: Processing attributes: finished, 100.0% [0:00:01 elapsed]\n",
      " » NRF2ome\n",
      "\t:: Reading from cache: cache/nrf2ome.edges.pickle\n",
      "\t:: Processing nodes: finished, 100.0% [0:00:00 elapsed]\n",
      "\t:: Processing edges: finished, 100.0% [0:00:00 elapsed]\n",
      "\t:: Processing attributes: finished, 100.0% [0:00:00 elapsed]\n",
      " » TRIP\n",
      "\t:: Reading from cache: cache/trip.edges.pickle\n",
      "\t:: Processing nodes: finished, 100.0% [0:00:00 elapsed]\n",
      "\t:: Processing edges: finished, 100.0% [0:00:00 elapsed]\n",
      "\t:: Processing attributes: finished, 100.0% [0:00:00 elapsed]\n",
      " » Signor\n",
      "\t:: Reading from cache: cache/signor.edges.pickle\n",
      "\t:: Processing nodes: finished, 100.0% [0:00:00 elapsed]\n",
      "\t:: Processing edges: finished, 100.0% [0:00:00 elapsed]\n",
      "\t:: Processing attributes: finished, 100.0% [0:00:03 elapsed]\n",
      " » Macrophage\n",
      "\t:: Reading from cache: cache/macrophage.edges.pickle\n",
      "\t:: Processing nodes: finished, 100.0% [0:00:00 elapsed]\n",
      "\t:: Processing edges: finished, 100.0% [0:00:00 elapsed]\n",
      "\t:: Processing attributes: finished, 100.0% [0:00:00 elapsed]\n",
      "\n",
      " :: Comparing with reference lists... done.\n",
      "\n",
      " » 13914 interactions between 4561 nodes\n",
      " from 13 resources have been loaded,\n",
      " for details see the log: ./log/g0p8r.log\n"
     ]
    }
   ],
   "source": [
    "from pypath import data_formats\n",
    "pa.load_resources(data_formats.pathway)"
   ]
  },
  {
   "cell_type": "markdown",
   "metadata": {},
   "source": [
    "6: Further attributes in the *PyPath* object\n",
    "------------------------------------------"
   ]
  },
  {
   "cell_type": "markdown",
   "metadata": {},
   "source": [
    "We just loaded pathway data from the pathway resources in OmniPath. The 2 small example networks are among the sources, the new ones have been added."
   ]
  },
  {
   "cell_type": "code",
   "execution_count": 20,
   "metadata": {},
   "outputs": [
    {
     "data": {
      "text/plain": [
       "['SignaLink3', 'SPIKE', 'egf2', 'Signor', 'egf1']"
      ]
     },
     "execution_count": 20,
     "metadata": {},
     "output_type": "execute_result"
    }
   ],
   "source": [
    "pa.graph.es[\n",
    "    pa.get_edge('EGF', 'EGFR')\n",
    "]['sources']"
   ]
  },
  {
   "cell_type": "markdown",
   "metadata": {},
   "source": [
    "We can also see the directions and effects of this interaction:"
   ]
  },
  {
   "cell_type": "code",
   "execution_count": 21,
   "metadata": {},
   "outputs": [
    {
     "name": "stdout",
     "output_type": "stream",
     "text": [
      "Directions and signs of interaction between P00533 and P01133\n",
      "\n",
      "\tP00533 <=== P01133 :: SPIKE, SignaLink3, egf2, Signor, egf1\n",
      "\tP00533 ==== P01133 :: egf2, egf1\n",
      "\tP00533 <=+= P01133 :: SignaLink3, egf2, Signor, SPIKE\n",
      "\tP00533 <=-= P01133 :: egf1\n",
      "\n"
     ]
    }
   ],
   "source": [
    "print pa.graph.es[\n",
    "    pa.get_edge('EGF', 'EGFR')\n",
    "]['dirs']"
   ]
  },
  {
   "cell_type": "markdown",
   "metadata": {},
   "source": [
    "As we see, the first example network wrongly had EGF inhibiting EGFR."
   ]
  },
  {
   "cell_type": "markdown",
   "metadata": {},
   "source": [
    "But what is ``gs()``? It is a shorthand for ``genesymbol()``, facilitating querying the object by human readable names. Let's see what other stimulators 'PIK3CA' has now based on all the resources above."
   ]
  },
  {
   "cell_type": "code",
   "execution_count": 35,
   "metadata": {},
   "outputs": [
    {
     "name": "stdout",
     "output_type": "stream",
     "text": [
      "['EGFR', 'HRAS', 'IGF1R', 'ERBB4', 'ERBB2', 'NTRK1', 'PTPN11', 'IRS1', 'NRAS', 'KRAS', 'PIK3R3', 'GNGT1', 'GRB10', 'IRS2', 'GAB2', 'SRC', 'SHC1', 'TNF', 'ITGB4', 'GAB1', 'ERBB3', 'PIK3AP1', 'GNB1', 'GNG3', 'GNG2', 'GNG12', 'GNB3']\n"
     ]
    }
   ],
   "source": [
    "pa.dgraph = None # to remove the old directed graph and get a new one\n",
    "print list(pa.gs_stimulated_by('PIK3CA').gs())"
   ]
  },
  {
   "cell_type": "markdown",
   "metadata": {},
   "source": [
    "And its inhibitors:"
   ]
  },
  {
   "cell_type": "code",
   "execution_count": 28,
   "metadata": {},
   "outputs": [
    {
     "data": {
      "text/plain": [
       "['CBLB', 'GNA11']"
      ]
     },
     "execution_count": 28,
     "metadata": {},
     "output_type": "execute_result"
    }
   ],
   "source": [
    "list(pa.gs_inhibited_by('PIK3CA').gs())"
   ]
  },
  {
   "cell_type": "markdown",
   "metadata": {},
   "source": [
    "The ``gs_`` in front means we query by GeneSymbol, this returns a special ``VertexSeq`` object:"
   ]
  },
  {
   "cell_type": "code",
   "execution_count": 29,
   "metadata": {},
   "outputs": [
    {
     "data": {
      "text/plain": [
       "<pypath.main._NamedVertexSeq at 0x7f1a22b2e690>"
      ]
     },
     "execution_count": 29,
     "metadata": {},
     "output_type": "execute_result"
    }
   ],
   "source": [
    "pa.gs_inhibited_by('PIK3CA')"
   ]
  },
  {
   "cell_type": "markdown",
   "metadata": {},
   "source": [
    "It's possible to get generators to iterate this vertex sequence, for example by GeneSymbols:"
   ]
  },
  {
   "cell_type": "code",
   "execution_count": 30,
   "metadata": {},
   "outputs": [
    {
     "data": {
      "text/plain": [
       "<generator object genesymbol at 0x7f1a1c25ba50>"
      ]
     },
     "execution_count": 30,
     "metadata": {},
     "output_type": "execute_result"
    }
   ],
   "source": [
    "pa.gs_inhibited_by('PIK3CA').gs()"
   ]
  },
  {
   "cell_type": "markdown",
   "metadata": {},
   "source": [
    "Or by UniProt IDs:"
   ]
  },
  {
   "cell_type": "code",
   "execution_count": 31,
   "metadata": {},
   "outputs": [
    {
     "data": {
      "text/plain": [
       "['Q13191', 'P29992']"
      ]
     },
     "execution_count": 31,
     "metadata": {},
     "output_type": "execute_result"
    }
   ],
   "source": [
    "list(pa.gs_inhibited_by('PIK3CA').up())"
   ]
  },
  {
   "cell_type": "markdown",
   "metadata": {},
   "source": [
    "Or by ``igraph.Vertex`` objects:"
   ]
  },
  {
   "cell_type": "code",
   "execution_count": 32,
   "metadata": {},
   "outputs": [
    {
     "data": {
      "text/plain": [
       "[igraph.Vertex(<igraph.Graph object at 0x7f1a2573dde0>,673,{'g2p_receptor': False, 'nameType': 'uniprot', 'originalNames': {'Q13191': 'uniprot'}, 'name': 'Q13191', 'ncbi_tax_id': 9606, 'color': '#49969AAA', 'type': 'protein', 'ca1_location': 'Cytosol', 'label': 'CBLB', 'sources': ['SignaLink3', 'CA1', 'Signor'], 'references': [<pypath.input_formats.Reference object at 0x7f1a1cb57a10>, <pypath.input_formats.Reference object at 0x7f1a22f32750>, <pypath.input_formats.Reference object at 0x7f1a144cb950>, <pypath.input_formats.Reference object at 0x7f1a22f327d0>, <pypath.input_formats.Reference object at 0x7f1a14e8a910>, <pypath.input_formats.Reference object at 0x7f1a22f32650>, <pypath.input_formats.Reference object at 0x7f1a240112d0>, <pypath.input_formats.Reference object at 0x7f1a19ee0110>, <pypath.input_formats.Reference object at 0x7f1a185f6350>, <pypath.input_formats.Reference object at 0x7f1a22f32710>, <pypath.input_formats.Reference object at 0x7f1a1c6bd750>, <pypath.input_formats.Reference object at 0x7f1a24011350>, <pypath.input_formats.Reference object at 0x7f1a22f32610>], 'slk_pathways': ['IIP', 'BCR', 'RTK'], 'g2p_ligand': False, 'atg': u'', 'label_size': 6.461639649487954, 'label_color': '#007B7FFF', 'exp': None, 'ca1_function': 'Ubiquitinase'}),\n",
       " igraph.Vertex(<igraph.Graph object at 0x7f1a2573dde0>,1940,{'g2p_receptor': False, 'nameType': 'uniprot', 'originalNames': {'P29992': 'uniprot', u'GNA11': 'genesymbol'}, 'name': 'P29992', 'ncbi_tax_id': 9606, 'color': '#49969AAA', 'type': 'protein', 'ca1_location': 'Cytosol', 'label': 'GNA11', 'sources': ['SignaLink3', 'CA1', 'Signor', 'SPIKE'], 'references': [<pypath.input_formats.Reference object at 0x7f1a1850a590>, <pypath.input_formats.Reference object at 0x7f1a17106f90>, <pypath.input_formats.Reference object at 0x7f1a170af110>, <pypath.input_formats.Reference object at 0x7f1a14a45ad0>, <pypath.input_formats.Reference object at 0x7f1a170af5d0>, <pypath.input_formats.Reference object at 0x7f1a22f32510>, <pypath.input_formats.Reference object at 0x7f1a1c96e3d0>, <pypath.input_formats.Reference object at 0x7f1a22f37cd0>, <pypath.input_formats.Reference object at 0x7f1a22e1d910>, <pypath.input_formats.Reference object at 0x7f1a170af190>, <pypath.input_formats.Reference object at 0x7f1a22baa650>, <pypath.input_formats.Reference object at 0x7f1a2306fc50>], 'slk_pathways': ['GPCR', 'IIP'], 'g2p_ligand': False, 'atg': u'', 'label_size': 6.364690776650755, 'label_color': '#007B7FFF', 'exp': None, 'ca1_function': 'Gprotein'})]"
      ]
     },
     "execution_count": 32,
     "metadata": {},
     "output_type": "execute_result"
    }
   ],
   "source": [
    "list(pa.gs_inhibited_by('PIK3CA').vs())"
   ]
  },
  {
   "cell_type": "markdown",
   "metadata": {},
   "source": [
    "``affects`` and ``affected_by`` methods query the molecules affected by or having an effect on the target respectively, either stimulation, inhibition or unknown effect:"
   ]
  },
  {
   "cell_type": "code",
   "execution_count": 34,
   "metadata": {},
   "outputs": [
    {
     "name": "stdout",
     "output_type": "stream",
     "text": [
      "['SOS1', 'PIK3CA', 'ERBB2', 'ANXA1', 'STAT3', 'NCK1', 'CLTA', 'SHC2', 'VAV2', 'SFN', 'ALCAM', 'GRAP', 'PTPN11', 'CASP1', 'FOS', 'SLC3A2', 'ESR1', 'S100A7', 'CASP3', 'HOXC10', 'SHC3', 'PTK2', 'TUBA1A', 'CAV2', 'CAV1', 'ICAM1', 'GRB2', 'GAPDH', 'ATP1A1', 'ATP1B1', 'GSTP1', 'STAT5A', 'STAT1', 'LYN', 'CBL', 'ERRFI1', 'S100A9', 'CDH1', 'HGS', 'PIK3R1', 'PLCG1', 'JAK1', 'MAP2K1', 'CASP7', 'NCK2', 'E2F1', 'EZR', 'STAT5B', 'SHC1', 'PTPN1', 'CCND1', 'MUC1', 'SEC13', 'LRIG1', 'PTK2B', 'GAB1', 'SOCS5', 'ERBB3', 'CALM2', 'WASF1', 'PKIA', 'PRKDC', 'EPB41', 'RGS16', 'HDAC6', 'PCNA', 'TRPV3', 'EPS15', 'PIK3C2B']\n"
     ]
    }
   ],
   "source": [
    "print list(pa.gs_affects('EGFR').gs())"
   ]
  },
  {
   "cell_type": "markdown",
   "metadata": {},
   "source": [
    "Those proteins affecting EGFR; we see EGF among them:"
   ]
  },
  {
   "cell_type": "code",
   "execution_count": 36,
   "metadata": {},
   "outputs": [
    {
     "name": "stdout",
     "output_type": "stream",
     "text": [
      "['EGF', 'ERBB2', 'RARA', 'AREGB', 'STAT3', 'BTC', 'TLR2', 'PTPN2', 'SOCS4', 'VAV2', 'TP53', 'PKN1', 'PTPN11', 'CBLB', 'CASP1', 'MAPK1', 'ABL1', 'MAPK11', 'TLR4', 'AP2M1', 'CAV1', 'EGR1', 'STAT1', 'CDK1', 'PRKCA', 'CBL', 'ERRFI1', 'JAK1', 'MAPK3', 'TGFA', 'JAK2', 'SRC', 'HBEGF', 'SNX9', 'PTPN6', 'PTPN1', 'MUC1', 'RIN1', 'LRIG1', 'PTK2B', 'ITGB4', 'SOCS5', 'MAPK14', 'MMP2', 'JUNB', 'EREG', 'GPER1', 'EPN1', 'EPGN']\n"
     ]
    }
   ],
   "source": [
    "print list(pa.gs_affected_by('EGFR').gs())"
   ]
  },
  {
   "cell_type": "markdown",
   "metadata": {},
   "source": [
    "The direct neighbors, without being aware of the directions are retrieved by ``neighbors`` methods:"
   ]
  },
  {
   "cell_type": "code",
   "execution_count": 37,
   "metadata": {},
   "outputs": [
    {
     "name": "stdout",
     "output_type": "stream",
     "text": [
      "['SOS1', 'PIK3CA', 'EGF', 'ERBB4', 'ERBB2', 'ANXA1', 'RASA1', 'RARA', 'AREGB', 'STAT3', 'NCK1', 'BTC', 'CLTA', 'TLR2', 'PTPN2', 'SHC2', 'SOCS4', 'VAV2', 'TP53', 'PKN1', 'SFN', 'ALCAM', 'GRAP', 'PTPN11', 'CBLB', 'CASP1', 'MAPK1', 'FOS', 'SLC3A2', 'ESR1', 'S100A7', 'ABL1', 'CASP3', 'HOXC10', 'SHC3', 'PTK2', 'MAPK11', 'TLR4', 'TUBA1A', 'CAV2', 'AP2M1', 'CAV1', 'ICAM1', 'GRB2', 'EGR1', 'GAPDH', 'ATP1A1', 'ATP1B1', 'GSTP1', 'STAT5A', 'STAT1', 'LYN', 'CDK1', 'PRKCA', 'CBL', 'ERRFI1', 'S100A9', 'GRB7', 'CDH1', 'HGS', 'PIK3R1', 'PLCG1', 'JAK1', 'MAP2K1', 'MAPK3', 'TGFA', 'JAK2', 'SRC', 'HBEGF', 'CASP7', 'NCK2', 'E2F1', 'SNX9', 'EZR', 'STAT5B', 'SHC1', 'PTPN6', 'PTPN1', 'CCND1', 'MUC1', 'RIN1', 'SEC13', 'LRIG1', 'CRK', 'PTK2B', 'ITGB4', 'GAB1', 'SOCS5', 'MAPK14', 'ERBB3', 'CALM2', 'WASF1', 'PKIA', 'PRKDC', 'EPB41', 'MMP2', 'CBLC', 'RGS16', 'JUNB', 'HDAC6', 'PCNA', 'TRPV1', 'TRPV3', 'PKD2', 'EPS15', 'EREG', 'GPER1', 'PIK3C2B', 'EPN1', 'EPGN']\n"
     ]
    }
   ],
   "source": [
    "print list(pa.gs_neighbors('EGFR').gs())"
   ]
  },
  {
   "cell_type": "markdown",
   "metadata": {},
   "source": [
    "The ``neighborhood`` methods return the indirect neighborhood in custom number of steps (however size of the neighborhood increases rapidly with number of steps):"
   ]
  },
  {
   "cell_type": "code",
   "execution_count": 40,
   "metadata": {},
   "outputs": [
    {
     "name": "stdout",
     "output_type": "stream",
     "text": [
      "['EGFR', 'SOS1', 'PIK3CA', 'EGF', 'ERBB4', 'ERBB2', 'ANXA1', 'RASA1', 'RARA', 'AREGB', 'STAT3', 'NCK1', 'BTC', 'CLTA', 'TLR2', 'PTPN2', 'SHC2', 'SOCS4', 'VAV2', 'TP53', 'PKN1', 'SFN', 'ALCAM', 'GRAP', 'PTPN11', 'CBLB', 'CASP1', 'MAPK1', 'FOS', 'SLC3A2', 'ESR1', 'S100A7', 'ABL1', 'CASP3', 'HOXC10', 'SHC3', 'PTK2', 'MAPK11', 'TLR4', 'TUBA1A', 'CAV2', 'AP2M1', 'CAV1', 'ICAM1', 'GRB2', 'EGR1', 'GAPDH', 'ATP1A1', 'ATP1B1', 'GSTP1', 'STAT5A', 'STAT1', 'LYN', 'CDK1', 'PRKCA', 'CBL', 'ERRFI1', 'S100A9', 'GRB7', 'CDH1', 'HGS', 'PIK3R1', 'PLCG1', 'JAK1', 'MAP2K1', 'MAPK3', 'TGFA', 'JAK2', 'SRC', 'HBEGF', 'CASP7', 'NCK2', 'E2F1', 'SNX9', 'EZR', 'STAT5B', 'SHC1', 'PTPN6', 'PTPN1', 'CCND1', 'MUC1', 'RIN1', 'SEC13', 'LRIG1', 'CRK', 'PTK2B', 'ITGB4', 'GAB1', 'SOCS5', 'MAPK14', 'ERBB3', 'CALM2', 'WASF1', 'PKIA', 'PRKDC', 'EPB41', 'MMP2', 'CBLC', 'RGS16', 'JUNB', 'HDAC6', 'PCNA', 'TRPV1', 'TRPV3', 'PKD2', 'EPS15', 'EREG', 'GPER1', 'PIK3C2B', 'EPN1', 'EPGN']\n",
      "\n",
      "['EGFR', 'SOS1', 'PIK3CA', 'EGF', 'ERBB4', 'ERBB2', 'ANXA1', 'RASA1', 'RARA', 'AREGB', 'STAT3', 'NCK1', 'BTC', 'CLTA', 'TLR2', 'PTPN2', 'SHC2', 'SOCS4', 'VAV2', 'TP53', 'PKN1', 'SFN', 'ALCAM', 'GRAP', 'PTPN11', 'CBLB', 'CASP1', 'MAPK1', 'FOS', 'SLC3A2', 'ESR1', 'S100A7', 'ABL1', 'CASP3', 'HOXC10', 'SHC3', 'PTK2', 'MAPK11', 'TLR4', 'TUBA1A', 'CAV2', 'AP2M1', 'CAV1', 'ICAM1', 'GRB2', 'EGR1', 'GAPDH', 'ATP1A1', 'ATP1B1', 'GSTP1', 'STAT5A', 'STAT1', 'LYN', 'CDK1', 'PRKCA', 'CBL', 'ERRFI1', 'S100A9', 'GRB7', 'CDH1', 'HGS', 'PIK3R1', 'PLCG1', 'JAK1', 'MAP2K1', 'MAPK3', 'TGFA', 'JAK2', 'SRC', 'HBEGF', 'CASP7', 'NCK2', 'E2F1', 'SNX9', 'EZR', 'STAT5B', 'SHC1', 'PTPN6', 'PTPN1', 'CCND1', 'MUC1', 'RIN1', 'SEC13', 'LRIG1', 'CRK', 'PTK2B', 'ITGB4', 'GAB1', 'SOCS5', 'MAPK14', 'ERBB3', 'CALM2', 'WASF1', 'PKIA', 'PRKDC', 'EPB41', 'MMP2', 'CBLC', 'RGS16', 'JUNB', 'HDAC6', 'PCNA', 'TRPV1', 'TRPV3', 'PKD2', 'EPS15', 'EREG', 'GPER1', 'PIK3C2B', 'EPN1', 'EPGN', 'HRAS', 'NRAS', 'KRAS', 'SPRY2', 'LCK', 'SPRY1', 'SPRY3', 'ITSN1', 'AKT1', 'RAC1', 'IGF1R', 'NTRK1', 'IRS1', 'PIK3R2', 'PIK3R3', 'GNGT1', 'MTOR', 'GRB10', 'APPL1', 'IRS2', 'GAB2', 'TICAM1', 'GNA11', 'TNF', 'AKT2', 'PIK3AP1', 'GNB1', 'GNG3', 'GNG2', 'GNG12', 'GNB3', 'SNTB2', 'NRG1', 'PIK3CD', 'MDM2', 'PIK3CG', 'NRG2', 'NRG4', 'BAK1', 'PIK3CB', 'CBFA2T3', 'ZNF652', 'NRG3', 'DLG4', 'PICK1', 'ERBB2IP', 'DLG2', 'DLG3', 'SNTA1', 'DOCK7', 'PAK1', 'PRKACA', 'PTGS2', 'ELAVL1', 'GDF15', 'RIPK1', 'FPR2', 'FPR3', 'PRKCG', 'IKBKG', 'PRKCB', 'RELA', 'TRPM7', 'PRKCH', 'SOCS1', 'APP', 'TSC1', 'SOCS3', 'PDGFRB', 'EPHB2', 'ESR2', 'NCOA2', 'MAPK9', 'MAPK8', 'MAPK10', 'NR0B2', 'EP300', 'CTNNB1', 'THRA', 'NR4A1', 'RXRB', 'RXRA', 'CDK7', 'SUMO2', 'RIF1', 'RXRG', 'MAP3K1', 'IRAK1', 'WNT5A', 'CCR2', 'IL9R', 'ECH1', 'IL20RA', 'SH2B1', 'MRPS31', 'APEX1', 'RPS9', 'DAPK3', 'PTMA', 'PKM', 'PRKCD', 'MORC4', 'CSF3R', 'SMAD3', 'IL20RB', 'CEBPB', 'IL7R', 'IL22RA1', 'PRKCE', 'CORO1A', 'MAP3K14', 'OGDHL', 'PIAS3', 'RET', 'CDKN1A', 'HDAC1', 'BCL2', 'BMX', 'IL21R', 'HDAC2', 'DNMT1', 'NFKBIZ', 'KDR', 'ALK', 'INSR', 'PIN1', 'BTK', 'NLK', 'TYK2', 'GNB2L1', 'IFNAR1', 'SULT2A1', 'TIRAP', 'BCL2L1', 'RPS6KA5', 'JAK3', 'NFKB2', 'IL15RA', 'TRIM28', 'GNL3', 'STAT4', 'BCKDK', 'BICD1', 'IL6ST', 'SRI', 'SPI1', 'FLT1', 'PIM1', 'IL11RA', 'CAPN1', 'IL10RA', 'HIF1A', 'CDK5', 'PTPRD', 'NMI', 'KLF4', 'NOS2', 'HSP90AB1', 'HSP90AA1', 'PRDM1', 'GMCL1', 'EPHB1', 'WAS', 'PAK2', 'DOK1', 'WASL', 'NCKIPSD', 'ARRB1', 'AP2S1', 'AP1B1', 'MYD88', 'RIPK2', 'TRIP6', 'TOLLIP', 'SFTPD', 'NEU1', 'CIRBP', 'TLR10', 'PSMD2', 'LY96', 'CLEC7A', 'HSP90B1', 'PRKCZ', 'CD44', 'TLR6', 'DCN', 'CD14', 'HLA-DRA', 'CYBB', 'TICAM2', 'SFTPA1', 'SNAPIN', 'TLR1', 'GJA1', 'STAT6', 'TRAF2', 'FYN', 'MET', 'CDK2', 'FKBP4', 'KIT', 'TCEB1', 'TCEB2', 'CDC42', 'CTNND1', 'SH2B2', 'ZAP70', 'ARHGAP1', 'SIAH2', 'PIDD1', 'IFI16', 'TNFRSF10A', 'NLRC4', 'FAS', 'APAF1', 'PYCARD', 'TNFRSF10B', 'DAPK1', 'GLS2', 'TYRP1', 'CX3CL1', 'BDKRB2', 'EDN2', 'ULK1', 'DDX5', 'DKK1', 'CYCS', 'CSNK2B', 'RAD51', 'NOXA1', 'PRKAA1', 'IRF9', 'CHEK1', 'CEBPZ', 'LGALS3', 'EEF1A1', 'ACTA2', 'STK11', 'IKBKB', 'BNIP3L', 'EIF2AK2', 'ETS1', 'KAT5', 'FBXW7', 'TP73', 'HNRNPK', 'IER3', 'YBX1', 'HSPA8', 'IRF5', 'PPM1D', 'CDKN2AIP', 'MAPKAPK5', 'CTSD', 'DUSP26', 'ATF3', 'PRKAB1', 'ATM', 'TOP2A', 'KRT8', 'TRAF4', 'ULK2', 'VCAN', 'DUSP5', 'USP7', 'DUSP1', 'TP53RK', 'BIRC5', 'MCL1', 'MSX1', 'BAD', 'PTEN', 'BBC3', 'FASLG', 'CSNK1D', 'TSC2', 'FANCC', 'PML', 'CASP10', 'TOP3A', 'ATR', 'CSNK1A1', 'APC', 'DYRK1A', 'CASP6', 'HGF', 'DDB2', 'BARD1', 'GADD45A', 'RB1', 'CDC25C', 'BAX', 'GRK5', 'PLK3', 'HTT', 'KDM1A', 'SIRT1', 'HIPK2', 'DHFR', 'LATS2', 'VDR', 'SERPINB5', 'BID', 'DDR1', 'SIAH1', 'NUMB', 'RPS6KA1', 'CDK9', 'SMARCB1', 'RB1CC1', 'MAPK13', 'NUAK1', 'BIRC3', 'TNFRSF10C', 'TAF1', 'TP53BP1', 'VRK1', 'SESN1', 'TP63', 'PMS2', 'HIC1', 'PPP1R13B', 'ABCB1', 'MAML1', 'CCNG1', 'CHMP4C', 'SCD', 'MDM4', 'POLK', 'IGFBP3', 'LIF', 'WRN', 'DYRK2', 'TIGAR', 'BBC3', 'BAI1', 'SETD7', 'ANLN', 'SLC38A2', 'BCL2L14', 'RRM2', 'MSL2', 'UBD', 'MSH2', 'CD82', 'NFYB', 'COL18A1', 'AIFM2', 'RRM2B', 'CDC20', 'SSBP1', 'TP53I3', 'BCL6', 'GPX1', 'PADI4', 'RPS27L', 'NOS3', 'WRAP53', 'RECQL4', 'PPP1R13L', 'ID2', 'TP53INP1', 'BLM', 'MAD1L1', 'ARID3A', 'RGCC', 'SIRT7', 'SCARA3', 'MLH1', 'TP53AIP1', 'TRIM22', 'ODC1', 'SMYD2', 'TRIAP1', 'PMAIP1', 'ASCC3', 'SCN3B', 'TAP1', 'FDXR', 'GTSE1', 'TRPM2', 'DDIT4', 'REV3L', 'KAT6A', 'NFYA', 'CHEK2', 'STEAP3', 'TNFRSF10D', 'TOP2B', 'PRC1', 'MIR17HG', 'SERPINE1', 'ERCC6', 'NDRG1', 'BTG2', 'ING2', 'RNF144B', 'RFWD2', 'GML', 'EPHA2', 'PLAGL1', 'PLK2', 'SH2D1A', 'SMG1', 'AURKB', 'XPC', 'AURKA', 'S100A2', 'TP53BP2', 'PCBP4', 'MYCN', 'HTATIP2', 'PERP', 'P2RX6', 'PTTG1', 'P4HA2', 'TTK', 'CCNK', 'PPM1J', 'ZNF420', 'ING1', 'CRYZ', 'RABGGTA', 'GMPS', 'TRIM24', 'STK17A', 'CDKN2A', 'FBXO11', 'TOPORS', 'AR', 'FOXO1', 'PDPK1', 'MAPT', 'PGM1', 'ARHGEF2', 'RAF1', 'PPP1R14A', 'ZAK', 'SNAI1', 'PGAM1', 'YWHAZ', 'MAP3K6', 'EPOR', 'AXL', 'FRS2', 'TEK', 'FGFR2', 'VAV1', 'IRS4', 'MST1R', 'CSF2RB', 'CD33', 'SIGLEC7', 'MAP3K5', 'IRF8', 'SIGLEC5', 'SIRPA', 'CTNNA1', 'SELE', 'BTLA', 'SIGLEC10', 'PXN', 'HOXA10', 'TERT', 'MPZL1', 'UBC', 'CARD16', 'CARD17', 'NOD1', 'NLRP1', 'CARD18', 'MAVS', 'CARD8', 'NLRP2', 'NLRP10', 'NLRP3', 'NLRP7', 'NOD2', 'IL1A', 'CASP5', 'FGF2', 'SREBF2', 'IL1B', 'IL33', 'IL37', 'ARHGDIA', 'GZMB', 'MEFV', 'PLA2G4A', 'TRIM16L', 'CASP4', 'ALDOA', 'PYDC1', 'ENO1', 'DDX58', 'IL18', 'TPI1', 'SERPINB9', 'CASP12', 'TRPC1', 'GSK3B', 'PEA15', 'ADAM17', 'AGTR1', 'MAP4K1', 'MAP3K2', 'FHL3', 'FHL1', 'PPARG', 'NUP153', 'IL16', 'STAB2', 'RPS6KA2', 'RORA', 'SP1', 'MYC', 'CSNK2A1', 'KHDRBS1', 'WWC1', 'KLC1', 'DUSP4', 'CTTN', 'CASP8', 'NFATC4', 'DUSP3', 'KCND2', 'SNCA', 'DUSP9', 'KLF11', 'HSF4', 'NFE2L2', 'SNCG', 'CAPN2', 'TNIP1', 'CREBBP', 'CDKN1B', 'MAP3K10', 'SMAD2', 'DYRK1B', 'RPS6KA3', 'ATF2', 'JUND', 'MAP2K3', 'JUN', 'RUNX1', 'ARAF', 'ELK1', 'PARP1', 'MAP2K2', 'BRAF', 'NEK2', 'PRDX6', 'FHL2', 'RPTOR', 'IQGAP1', 'FGFR1', 'SMAD1', 'EIF4EBP1', 'HSF1', 'PPP1CA', 'ITGB6', 'SLC9A1', 'RPS6KA4', 'SLC2A4', 'RPS6KB1', 'PTPRB', 'HDAC4', 'CASP9', 'C1QBP', 'MKNK2', 'PTPN7', 'PPP2CA', 'BCL2L11', 'FOXO3', 'ADAM15', 'SQSTM1', 'GORASP2', 'MKNK1', 'LRP6', 'THRB', 'NCF1', 'PGR', 'SORBS3', 'STMN1', 'CAD', 'MAPKAPK2', 'LAMTOR3', 'DUSP6', 'SREBF1', 'DUSP16', 'GABPA', 'RPS3', 'DUSP2', 'BMF', 'SPHK1', 'H3F3B', 'CALD1', 'SMAD4', 'ARRB2', 'NEFH', 'PPP2R5C', 'PLAA', 'MARCKS', 'RGS19', 'MITF', 'MBP', 'PTPN5', 'MEF2B', 'SYN1', 'CNKSR1', 'NEFM', 'PDE4D', 'KHDRBS2', 'CARD14', 'AMPH', 'SP3', 'POLR2A', 'GTF2I', 'MTNR1A', 'SPHK2', 'TUB', 'ABI1', 'ESPL1', 'NCOA1', 'CEBPA', 'LIFR', 'TWIST1', 'APBB1', 'STIM1', 'EWSR1', 'CIC', 'PITPNM1', 'PDE4C', 'TFCP2', 'ERF', 'MAFA', 'DUSP7', 'MED1', 'CIITA', 'NR4A2', 'PCYT1A', 'PTPRJ', 'NUP50', 'POU5F1', 'UBTF', 'MKL1', 'CEP55', 'TH', 'TPR', 'TOB1', 'EXOC7', 'NOX5', 'TCL1A', 'ELF1', 'CGA', 'NFAT5', 'CXCL12', 'IGF1', 'TXN', 'GATA3', 'TRIM25', 'DDX17', 'NFKB1', 'HNF1A', 'CHUK', 'IKBKE', 'HSPD1', 'WIPI1', 'XBP1', 'SLC2A1', 'TDG', 'FAM102A', 'MTA1', 'MPG', 'MAT1A', 'TSKU', 'ATAD2', 'TFF1', 'NME1', 'EBAG9', 'INA', 'IGFBP4', 'B4GALT1', 'POU4F2', 'POU4F1', 'KMT2D', 'YAP1', 'YTHDC1', 'BRCA1', 'MYLK', 'CAT', 'CD19', 'RYBP', 'PSTPIP1', 'SPAG9', 'PSMA7', 'ABL2', 'NEDD9', 'LASP1', 'STK3', 'SORBS2', 'WASF3', 'PRKD1', 'NFKBIA', 'STK4', 'NCOA3', 'HCLS1', 'BCAR1', 'CLK1', 'CRKL', 'BCR', 'HCK', 'RAPGEF1', 'MSH5', 'DNM2', 'WASF2', 'CHRNB1', 'PARK2', 'PLSCR1', 'RAD9A', 'RAPH1', 'TRIP10', 'ZDHHC16', 'TOP1', 'ROBO1', 'SYNJ2', 'POLR2B', 'CDV3', 'ARHGAP35', 'SRCIN1', 'CLK4', 'RFX1', 'SPTLC1', 'CDON', 'PROKR1', 'EIF4G2', 'PTGES3', 'HNRNPD', 'DFFA', 'BTRC', 'EIF4G3', 'AKT3', 'CD247', 'EIF4B', 'VIM', 'RBX1', 'PTCH1', 'TCP10L', 'COPS6', 'XIAP', 'HDAC7', 'FBXW11', 'GZMM', 'RNF7', 'ATG4D', 'ROCK1', 'GSN', 'EIF4G1', 'BIRC2', 'AFP', 'NAIP', 'PIP4K2A', 'EIF3J', 'BIRC6', 'DFFB', 'ACIN1', 'EIF2S2', 'GORASP1', 'NUMA1', 'SPTAN1', 'HSPB2', 'EIF2S3', 'EIF2A', 'PSIP1', 'CASP2', 'PPP2R5B', 'GAS2', 'NTRK2', 'ACTN1', 'CD36', 'PKD1', 'ITGB1', 'ACTN4', 'CAMK2A', 'FGR', 'CSK', 'ACTN3', 'PTPN12', 'SH3GL1', 'TAB1', 'DUSP10', 'MAP2K6', 'MAP2K4', 'TCF3', 'HBP1', 'IRAK4', 'AHSG', 'SIGIRR', 'NOX4', 'TLR5', 'STK11IP', 'MBL2', 'TRAF3', 'MAL', 'UBQLN1', 'TMED7', 'LY86', 'MAP3K8', 'TREM1', 'HSPA14', 'CNPY3', 'SYK', 'SFTPA2', 'F2RL1', 'RNF216', 'GRIN2A', 'GPHN', 'MAP1B', 'MAP2', 'CRIPT', 'DNM1', 'GABARAPL3', 'DPYSL2', 'MAP1A', 'TTL', 'RNF111', 'AAK1', 'TRAF6', 'PDGFRA', 'CD40', 'STX3', 'TRPC4', 'ITGAX', 'PLCG2', 'PNRC1', 'SOS2', 'DAB2', 'LY9', 'MERTK', 'CD300LB', 'CD28', 'TGFBR2', 'CD22', 'LAT2', 'SELL', 'PSEN1', 'PTPRA', 'SH3KBP1', 'REPS1', 'DRD3', 'RBP1', 'A9UF07', 'TGFB1', 'PDGFB', 'PDGFA', 'IGF2', 'ID3', 'NFATC1', 'MAP1LC3B', 'NAB2', 'NAB1', 'TOPBP1', 'SFPQ', 'RHEB', 'POU2F1', 'GLRX', 'EDN1', 'NONO', 'TRPC3', 'TRPC6', 'TRPC5', 'ISG15', 'CRLF2', 'GHR', 'CSF2RA', 'PRLR', 'NR3C1', 'MPL', 'CISH', 'IL2RG', 'IL3RA', 'CTLA4', 'IL2RB', 'IL5RA', 'CSN2', 'CNOT8', 'IRF1', 'IFNAR2', 'NUP214', 'MBD1', 'IFNGR1', 'HDAC3', 'KPNA6', 'STAT2', 'ARNT', 'IFNGR2', 'SRF', 'PIAS4', 'KPNA1', 'PIAS1', 'DDB1', 'ANO9', 'MDC1', 'IRGC', 'CAMK2B', 'INPP5D', 'CD72', 'MS4A2', 'PPP1R8', 'PLAUR', 'RPL10', 'PPP1R15A', 'FCGR2A', 'CDK4', 'NMT1', 'LIME1', 'TRPV4', 'SLAMF1', 'PBK', 'DLG1', 'PTHLH', 'WEE1', 'LMNA', 'RANGAP1', 'HMGA2', 'NSFL1C', 'CDC25B', 'MAP4', 'KRT18', 'RUNX2', 'EZH2', 'NUP98', 'DDX3X', 'FOXM1', 'LATS1', 'RAP1GAP', 'CDC27', 'NPM1', 'SAMHD1', 'PRDX1', 'PLEC', 'ANAPC1', 'EEF2K', 'PIK3C3', 'KAT7', 'INCENP', 'FANCG', 'UBE2A', 'LIG1', 'SIRT2', 'ECT2', 'FEN1', 'MCM3', 'SETD8', 'USP16', 'HMGA1', 'KIF11', 'BORA', 'ESCO1', 'BUB1', 'CDC7', 'MCM4', 'KIF2C', 'RPA2', 'CDK5RAP3', 'PKMYT1', 'NDEL1', 'BUB1B', 'MYBL2', 'E2F4', 'FBXO5', 'MAPK6', 'CDC25A', 'MYOD1', 'CKS1B', 'NDE1', 'IREB2', 'GOLGA2', 'KIF22', 'ZC3HC1', 'ERCC6L', 'LBR', 'PIK3C2A', 'TK1', 'UBA1', 'CKAP2', 'CDC16', 'ORC1', 'EEF1D', 'MPLKIP', 'APLP2', 'NUSAP1', 'CUX1', 'RAB5B', 'SYN3', 'FOXK2', 'CDC23', 'PLCB3', 'F11R', 'PHLPP2', 'TIAM1', 'PLD2', 'IL2RA', 'PFKFB3', 'PRKG1', 'GSK3A', 'ADAP1', 'CFL1', 'HNRNPA1', 'RPS6KB2', 'AQP1', 'EGLN2', 'PARD6A', 'PHLPP1', 'ADRBK1', 'PLEK', 'RASGRP3', 'EIF4E', 'NR1H4', 'CLIP1', 'ATP2B1', 'PLD1', 'PLCB1', 'ADD1', 'GLRA1', 'CACNA1B', 'CACNA1C', 'ADCY5', 'AKAP5', 'GNAZ', 'GRIK1', 'GABRA1', 'GRM7', 'NOS1', 'NFASC', 'GRM1', 'ADCY2', 'PDE3A', 'DGUOK', 'GAP43', 'GRIA1', 'SNAP25', 'CDKN2D', 'RALB', 'HMGN1', 'HMGN2', 'NKX3-1', 'MYL9', 'TNNI3', 'TRPV5', 'CASR', 'KCNMA1', 'TRPM4', 'NPHS1', 'HRH1', 'PIP5K1B', 'CORO1B', 'LRP1', 'DVL1P1', 'ACO1', 'ARHGDIB', 'KCNJ13', 'THOC5', 'CHAT', 'CD5', 'ADD2', 'CTPS1', 'NOXO1', 'HSPB8', 'F3', 'GRIA4', 'EIF6', 'CFLAR', 'LTK', 'SH3GLB1', 'SORBS1', 'PTPN22', 'UBASH3B', 'RAC2', 'RND1', 'ARPC1B', 'ANAPC11', 'ITGAE', 'ITGB7', 'ZFYVE9', 'MAP3K7', 'TYRO3', 'WBP11', 'TSHR', 'TGFBR1', 'FLT3', 'LCP2', 'RHOG', 'GNAS', 'TLR3', 'IL1R1', 'FLNB', 'FLNA', 'PTPRF', 'FLNC', 'ITK', 'RHOA', 'NTRK3', 'RRAS', 'GIT1', 'TRPM6', 'TNFRSF1A', 'IL4R', 'PTPRC', 'IFNB1', 'LEPR', 'IFNLR1', 'IL31RA', 'GLI1', 'KSR1', 'BRAP', 'KSR2', 'PEBP1', 'WDR83', 'TAL1', 'ETV6', 'ZFP36L1', 'ELK4', 'MAGEA11', 'MYL1', 'LAT', 'MYB', 'BAZ1B', 'MAZ', 'KARS', 'SPIB', 'SULT4A1', 'RRN3', 'CXCR4', 'IL13RA1', 'DNAJA3', 'STAM', 'IL23R', 'IL12RB1', 'ARHGEF1', 'HIST1H3B', 'PRMT5', 'NIN', 'ADRB2', 'ROR1', 'EMD', 'CDH5', 'INPPL1', 'SMO', 'RUNX3', 'CLTC', 'ARHGAP32', 'VIL1', 'PDK1', 'BMPR2', 'ANXA2', 'WWOX', 'PRKCI', 'FLT4', 'TRAF1', 'HNF4A', 'CDH2', 'MUSK', 'SPTBN2', 'MMP14', 'TNS3', 'NOX1', 'UGT2B7', 'TRPV6', 'CHN2', 'CHRNA7', 'PROM1', 'DGKA', 'CYP19A1', 'KRT19', 'HLA-A', 'PTPN21', 'KCNA3', 'KCNJ1', 'DOK4', 'DDR2', 'GLRB', 'ARHGEF4', 'AP2B1', 'PIP5K1C', 'VAV3', 'HCN4', 'DAG1', 'KCNB1', 'EPHA3', 'MMP3', 'CDK8', 'CCNB1', 'CCNA2', 'YWHAQ', 'HSPA5', 'EED', 'MAP1LC3A', 'XRCC1', 'MCPH1', 'CDT1', 'CCNA1', 'E2F6', 'POLA1', 'CDKN2A', 'DTL', 'DBF4', 'DAPK2', 'CDCA4', 'TNK2', 'FADD', 'L1CAM', 'FES', 'STK26', 'CCR5', 'PTK6', 'PTPRE', 'ARHGEF7', 'HBA1', 'KCNH2', 'CD46', 'PILRA', 'LILRB1', 'ROS1', 'LAIR1', 'KIR2DL1', 'ACTG1', 'SIGLEC9', 'LILRB4', 'LILRB2', 'CEACAM1', 'SH3BP2', 'MAPK15', 'CLK2', 'CUL1', 'NOTCH1', 'EHMT1', 'FBXO31', 'CDK6', 'FBXW8', 'MLLT4', 'RLF', 'RALGDS', 'YWHAH', 'SEC31A', 'MCOLN1', 'CD74', 'HLA-DMB', 'SAR1A', 'HLA-DMA', 'B2M', 'SEC24A', 'SEC23A', 'HLA-DRB1', 'PTPN4', 'DOCK1', 'KCNA2', 'GNA13', 'CARD9', 'MAP3K4', 'PPM1A', 'MAPKAPK3', 'GATA2', 'USF1', 'DDIT3', 'MAPKAP1', 'MEF2D', 'PLCB2', 'STK39', 'MAP3K11', 'TIAL1', 'MAX', 'SMAD7', 'MAPK8IP1', 'CDKN1C', 'PPARGC1A', 'MAPK8IP2', 'MEF2A', 'MAP4K3', 'MINK1', 'ELK3', 'ZFP36', 'CCND2', 'DUSP8', 'PIP4K2B', 'EEA1', 'RBSN', 'ZNHIT1', 'PTPRR', 'SMARCD3', 'CSNK2A2', 'MEF2C', 'PAK6', 'PPP3CA', 'PPP3CB', 'ADCY1', 'CAMKK2', 'CAMK4', 'RYR1', 'VAPA', 'PDE1B', 'RIT2', 'RAB3A', 'DRD2', 'RASGRF1', 'UNC13B', 'PDE1A', 'MYRIP', 'ITPR1', 'PDE1C', 'MYO6', 'PPEF2', 'MYO1C', 'CAMKK1', 'TRPM3', 'TRPV2', 'PPP3CC', 'BAIAP2', 'SRGAP3', 'XRCC5', 'IRF3', 'HNRNPU', 'UPF1', 'XRCC6', 'VCP', 'TELO2', 'PNKP', 'TDP1', 'HERC2', 'HIST1H1A', 'RPA1', 'DCLRE1C', 'TTI1', 'CCNT2', 'SMC1A', 'H2AFX', 'HINFP', 'EIF2AK4', 'NHEJ1', 'LIG4', 'HOXB7', 'GNAI1', 'NRF1', 'TUBA4B', 'SRSF2', 'UBE2N', 'ERCC5', 'CHAF1B', 'CHAF1A', 'POLD2', 'FANCD2', 'E2F2', 'HUS1', 'SHPRH', 'USP1', 'RFC1', 'POLD1', 'RAD18', 'CLSPN', 'MSH6', 'POLD4', 'POLI', 'TIMELESS', 'MUTYH', 'EXO1', 'POLH', 'TRPA1', 'PPARA', 'SYT1', 'PRKAA2', 'FAF1', 'PRKCSH', 'CNR1', 'GABARAP', 'SCNN1A', 'KCNQ3', 'KCNQ2', 'KIF13B', 'SYT4', 'PACS1', 'PIRT', 'KCNAB2', 'GRIN1', 'PRKAR2A', 'GRIN2B', 'IFT57', 'ACTN2', 'CBY1', 'WWTR1', 'HAX1', 'PSMD7', 'EIF2AK3', 'EIF2S1', 'DIAPH1', 'TPM1', 'HAVCR1', 'CD2AP', 'STX5', 'TNNI1', 'TRPC7', 'KIF3B', 'PKHD1', 'AP1G1', 'PCNT', 'RP2', 'RYR2', 'PACS2', 'NEK8', 'TNNI2', 'KIF3A', 'GNAQ', 'TRIM27']\n"
     ]
    }
   ],
   "source": [
    "print list(pa.gs_neighborhood('EGFR').gs()) # 1 step by default\n",
    "print \"\"\n",
    "print list(pa.gs_neighborhood('EGFR', 2).gs()) # 2 steps"
   ]
  },
  {
   "cell_type": "markdown",
   "metadata": {},
   "source": [
    "7: Accessing the literature references\n",
    "--------------------------------------\n",
    "References are listed in the ``references`` edge attribute:"
   ]
  },
  {
   "cell_type": "code",
   "execution_count": 49,
   "metadata": {},
   "outputs": [
    {
     "name": "stdout",
     "output_type": "stream",
     "text": [
      "[<pypath.input_formats.Reference object at 0x7f1a19b52350>, <pypath.input_formats.Reference object at 0x7f1a143d6410>, <pypath.input_formats.Reference object at 0x7f1a1436a350>, <pypath.input_formats.Reference object at 0x7f1a177972d0>]\n"
     ]
    }
   ],
   "source": [
    "edge = pa.graph.es[\n",
    "    pa.get_edge('EGF', 'EGFR')\n",
    "]\n",
    "refs = edge['references']\n",
    "\n",
    "print refs"
   ]
  },
  {
   "cell_type": "markdown",
   "metadata": {},
   "source": [
    "Each reference has its PubMed ID:"
   ]
  },
  {
   "cell_type": "code",
   "execution_count": 45,
   "metadata": {},
   "outputs": [
    {
     "data": {
      "text/plain": [
       "'2186024'"
      ]
     },
     "execution_count": 45,
     "metadata": {},
     "output_type": "execute_result"
    }
   ],
   "source": [
    "refs[0].pmid"
   ]
  },
  {
   "cell_type": "markdown",
   "metadata": {},
   "source": [
    "To open in a browser just call ``open()``:"
   ]
  },
  {
   "cell_type": "code",
   "execution_count": null,
   "metadata": {},
   "outputs": [],
   "source": [
    "refs[0].open()"
   ]
  },
  {
   "cell_type": "markdown",
   "metadata": {},
   "source": [
    "It's possible to know which resources cite which papers:"
   ]
  },
  {
   "cell_type": "code",
   "execution_count": 50,
   "metadata": {},
   "outputs": [
    {
     "data": {
      "text/plain": [
       "{'SPIKE': [<pypath.input_formats.Reference at 0x7f1a177972d0>],\n",
       " 'SignaLink3': [<pypath.input_formats.Reference at 0x7f1a19b52350>],\n",
       " 'Signor': [<pypath.input_formats.Reference at 0x7f1a143d6410>,\n",
       "  <pypath.input_formats.Reference at 0x7f1a1436a350>],\n",
       " 'egf1': [],\n",
       " 'egf2': []}"
      ]
     },
     "execution_count": 50,
     "metadata": {},
     "output_type": "execute_result"
    }
   ],
   "source": [
    "edge['refs_by_source']"
   ]
  },
  {
   "cell_type": "markdown",
   "metadata": {},
   "source": [
    "8: *Direction* objects\n",
    "--------------------\n",
    "Each edge stores its direction and effect sign data in one ``Direction`` object:"
   ]
  },
  {
   "cell_type": "code",
   "execution_count": 62,
   "metadata": {},
   "outputs": [
    {
     "data": {
      "text/plain": [
       "<pypath.main.Direction at 0x7f1a24344650>"
      ]
     },
     "execution_count": 62,
     "metadata": {},
     "output_type": "execute_result"
    }
   ],
   "source": [
    "edge['dirs']"
   ]
  },
  {
   "cell_type": "markdown",
   "metadata": {},
   "source": [
    "Also there are ways to query the direction and effect information by resources:"
   ]
  },
  {
   "cell_type": "code",
   "execution_count": 53,
   "metadata": {},
   "outputs": [
    {
     "data": {
      "text/plain": [
       "{'SPIKE', 'SignaLink3', 'Signor', 'egf1', 'egf2'}"
      ]
     },
     "execution_count": 53,
     "metadata": {},
     "output_type": "execute_result"
    }
   ],
   "source": [
    "dirs = edge['dirs']\n",
    "dirs.get_dir(dirs.reverse, sources = True)"
   ]
  },
  {
   "cell_type": "markdown",
   "metadata": {},
   "source": [
    "``reverse`` means an arbitrary direction, noted as a tuple of UniProt IDs, where UniProt ID #1 affects UniProt ID #2; ``straight`` is its opposite, and ``undirected`` means unknown direction:"
   ]
  },
  {
   "cell_type": "code",
   "execution_count": 57,
   "metadata": {},
   "outputs": [
    {
     "name": "stdout",
     "output_type": "stream",
     "text": [
      "('P01133', 'P00533')\n",
      "('P00533', 'P01133')\n"
     ]
    }
   ],
   "source": [
    "print dirs.reverse\n",
    "print dirs.straight"
   ]
  },
  {
   "cell_type": "markdown",
   "metadata": {},
   "source": [
    "By default, ``get_dirs()`` returns boolean values:"
   ]
  },
  {
   "cell_type": "code",
   "execution_count": 60,
   "metadata": {},
   "outputs": [
    {
     "data": {
      "text/plain": [
       "True"
      ]
     },
     "execution_count": 60,
     "metadata": {},
     "output_type": "execute_result"
    }
   ],
   "source": [
    "dirs.get_dir(dirs.reverse)"
   ]
  },
  {
   "cell_type": "markdown",
   "metadata": {},
   "source": [
    "The same way effect signs can be queried. A pair of boolean values means if the interaction is stimulation and if it is inhibition, respectively."
   ]
  },
  {
   "cell_type": "code",
   "execution_count": 61,
   "metadata": {},
   "outputs": [
    {
     "data": {
      "text/plain": [
       "[True, True]"
      ]
     },
     "execution_count": 61,
     "metadata": {},
     "output_type": "execute_result"
    }
   ],
   "source": [
    "dirs.get_sign(dirs.reverse)"
   ]
  },
  {
   "cell_type": "code",
   "execution_count": null,
   "metadata": {
    "collapsed": true
   },
   "outputs": [],
   "source": []
  }
 ],
 "metadata": {
  "kernelspec": {
   "display_name": "Python 3",
   "language": "python",
   "name": "python3"
  },
  "language_info": {
   "codemirror_mode": {
    "name": "ipython",
    "version": 3
   },
   "file_extension": ".py",
   "mimetype": "text/x-python",
   "name": "python",
   "nbconvert_exporter": "python",
   "pygments_lexer": "ipython3",
   "version": "3.7.0"
  }
 },
 "nbformat": 4,
 "nbformat_minor": 1
}
