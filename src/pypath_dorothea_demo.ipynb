{
 "cells": [
  {
   "cell_type": "markdown",
   "metadata": {},
   "source": [
    "# How to load DoRothEA in pypath"
   ]
  },
  {
   "cell_type": "markdown",
   "metadata": {},
   "source": [
    "`pypath` is a Python module for building custom molecular interaction networks. It has built-in methods to load TF-target interaction data from [DoRothEA](https://saezlab.github.io/DoRothEA/). It downloads the data from DoRothEA's git repository, processes it and builds an `igraph` object out of it. Below I show how to load the data. Note, you can access DoRothEA data also [by the web service](https://github.com/saezlab/DoRothEA#query-tf-regulons-by-webservice) at [omnipathdb.org](http://omnipathdb.org/) and static files in the [DoRothEA git repo](https://github.com/saezlab/DoRothEA)."
   ]
  },
  {
   "cell_type": "markdown",
   "metadata": {},
   "source": [
    "First make sure you have `pypath` installed. You can find installation instructions [here](https://github.com/saezlab/pypath#installation). Once you have `pypath` installed import it and create a `pypath.PyPath()` object."
   ]
  },
  {
   "cell_type": "code",
   "execution_count": 2,
   "metadata": {},
   "outputs": [
    {
     "name": "stdout",
     "output_type": "stream",
     "text": [
      "\n",
      "\t=== d i s c l a i m e r ===\n",
      "\n",
      "\tAll data coming with this module\n",
      "\teither as redistributed copy or downloaded using the\n",
      "\tprogrammatic interfaces included in the present module\n",
      "\tare available under public domain, are free to use at\n",
      "\tleast for academic research or education purposes.\n",
      "\tPlease be aware of the licences of all the datasets\n",
      "\tyou use in your analysis, and please give appropriate\n",
      "\tcredits for the original sources when you publish your\n",
      "\tresults. To find out more about data sources please\n",
      "\tlook at `pypath.descriptions` and\n",
      "\t`pypath.data_formats.urls`.\n",
      "\n",
      "\t> New session started,\n",
      "\tsession ID: '6epsq'\n",
      "\tlogfile: './log/6epsq.log'\n",
      "\tpypath version: 0.7.110\n"
     ]
    }
   ],
   "source": [
    "import pypath\n",
    "\n",
    "pa = pypath.PyPath()"
   ]
  },
  {
   "cell_type": "markdown",
   "metadata": {},
   "source": [
    "There is a method dedicated to DoRothEA. You can set the confidence levels (A, B, C, D) or use only literature curated interactions."
   ]
  },
  {
   "cell_type": "code",
   "execution_count": 3,
   "metadata": {},
   "outputs": [
    {
     "name": "stdout",
     "output_type": "stream",
     "text": [
      "\t:: Loading data from cache previously downloaded from www.uniprot.org\n",
      "\t:: Ready. Resulted `plain text` of type unicode string.                                                                                              \n",
      "\t:: Local file at `/home/denes/.pypath/cache/784f0a43e5831454b1d10db1b9480df7-`.\n",
      " > TFRegulons\n",
      "\t:: Loading data from cache previously downloaded from github.com\n",
      "\t:: Ready. Resulted `zip extracted data` of type dict of file objects.                                                                                \n",
      "\t:: Local file at `/home/denes/.pypath/cache/d43d9194b1ff704be636c4a5732203a9-database_20180915.csv.zip`.\n",
      "\t:: Loading 'genesymbol' to 'uniprot' mapping table\n",
      "\t:: Loading 'uniprot-sec' to 'uniprot-pri' mapping table\n",
      "\t:: Loading data from cache previously downloaded from www.uniprot.org\n",
      "\t:: Ready. Resulted `plain text` of type unicode string.                                                                                              \n",
      "\t:: Local file at `/home/denes/.pypath/cache/c87b574b25efc888967e7ab939302989-`.\n",
      "\t:: Loading data from cache previously downloaded from ftp.uniprot.org\n",
      "\t:: Ready. Resulted `plain text` of type file object.                                                                                                 \n",
      "\t:: Local file at `/home/denes/.pypath/cache/49314fe217bf0f2a5544a2c4314b4adf-sec_ac.txt`.\n"
     ]
    },
    {
     "name": "stderr",
     "output_type": "stream",
     "text": [
      "        Reading from file -- finished: : 0.00it [00:00, ?it/s]\n"
     ]
    },
    {
     "name": "stdout",
     "output_type": "stream",
     "text": [
      "\t:: Loading 'genesymbol' to 'trembl' mapping table\n",
      "\t:: Loading 'genesymbol-syn' to 'uniprot' mapping table\n"
     ]
    },
    {
     "name": "stderr",
     "output_type": "stream",
     "text": [
      "        Processing nodes -- finished: 100%|██████████| 4.84k/4.84k [00:00<00:00, 203kit/s]\n",
      "        Processing edges -- finished: 100%|██████████| 4.84k/4.84k [00:00<00:00, 99.4kit/s]\n",
      "        Processing attributes -- finished: 100%|██████████| 4.84k/4.84k [00:01<00:00, 2.47kit/s]\n"
     ]
    },
    {
     "name": "stdout",
     "output_type": "stream",
     "text": [
      "\n",
      " :: Comparing with reference lists... done.\n",
      "\n",
      " > 4696 interactions between 2313 nodes\n",
      " from 17 resources have been loaded,\n",
      " for details see the log: ./log/6epsq.log\n"
     ]
    }
   ],
   "source": [
    "pa.load_tfregulons(levels = {'A'}, only_curated = False)"
   ]
  },
  {
   "cell_type": "markdown",
   "metadata": {},
   "source": [
    "As you see this resulted 4.7k interactions between 2.3k genes. Let's see from which resources these come from:"
   ]
  },
  {
   "cell_type": "code",
   "execution_count": 4,
   "metadata": {},
   "outputs": [
    {
     "data": {
      "text/plain": [
       "['trrd_via_tfact',\n",
       " 'trrust',\n",
       " 'tred_via_RegNetwork',\n",
       " 'reviews',\n",
       " 'IntAct',\n",
       " 'TFe',\n",
       " 'jaspar_v2018',\n",
       " 'kegg',\n",
       " 'HTRIdb',\n",
       " 'ARACNe-GTEx',\n",
       " 'NFIRegulomeDB',\n",
       " 'oreganno',\n",
       " 'ReMap',\n",
       " 'PAZAR',\n",
       " 'tfact',\n",
       " 'fantom4',\n",
       " 'hocomoco_v11']"
      ]
     },
     "execution_count": 4,
     "metadata": {},
     "output_type": "execute_result"
    }
   ],
   "source": [
    "pa.sources"
   ]
  },
  {
   "cell_type": "markdown",
   "metadata": {},
   "source": [
    "The `PyPath` object contains the network in an `igraph.Graph` object:"
   ]
  },
  {
   "cell_type": "code",
   "execution_count": 6,
   "metadata": {},
   "outputs": [
    {
     "data": {
      "text/plain": [
       "<igraph.Graph at 0x65f4aa42bb88>"
      ]
     },
     "execution_count": 6,
     "metadata": {},
     "output_type": "execute_result"
    }
   ],
   "source": [
    "pa.graph"
   ]
  },
  {
   "cell_type": "markdown",
   "metadata": {},
   "source": [
    "Additional details are available in the edge attributes of this graph object. For example we can see the directions of the first edge. It says this edge is from the databases PAZAR and ORegAnno, and it is a stimulatory interaction:"
   ]
  },
  {
   "cell_type": "code",
   "execution_count": 5,
   "metadata": {},
   "outputs": [
    {
     "name": "stdout",
     "output_type": "stream",
     "text": [
      "Directions and signs of interaction between P23769 and P47898\n",
      "\n",
      "\tP23769 ===> P47898 :: PAZAR, oreganno\n",
      "\tP23769 =+=> P47898 :: PAZAR, oreganno\n",
      "\n"
     ]
    }
   ],
   "source": [
    "print(pa.graph.es[0]['dirs'])"
   ]
  },
  {
   "cell_type": "markdown",
   "metadata": {},
   "source": [
    "See the sources and literature references for the same edge:"
   ]
  },
  {
   "cell_type": "code",
   "execution_count": 9,
   "metadata": {},
   "outputs": [
    {
     "data": {
      "text/plain": [
       "'22951020'"
      ]
     },
     "execution_count": 9,
     "metadata": {},
     "output_type": "execute_result"
    }
   ],
   "source": [
    "pa.graph.es[0]['references'][0].pmid"
   ]
  },
  {
   "cell_type": "code",
   "execution_count": 10,
   "metadata": {},
   "outputs": [
    {
     "data": {
      "text/plain": [
       "{'PAZAR', 'oreganno'}"
      ]
     },
     "execution_count": 10,
     "metadata": {},
     "output_type": "execute_result"
    }
   ],
   "source": [
    "pa.graph.es[0]['sources']"
   ]
  },
  {
   "cell_type": "markdown",
   "metadata": {},
   "source": [
    "There are many ways to query the `PyPath` object. For example to see which genes are the targets of the estrogen receptor (a TF):"
   ]
  },
  {
   "cell_type": "code",
   "execution_count": 22,
   "metadata": {},
   "outputs": [
    {
     "data": {
      "text/plain": [
       "'NOTCH2NL, CTSD, MMP13, MYC, CHAT, SERPINB9, EDN3, ADORA1, TRH, LGALS8, CDKN1B, PRL, TAC3, NOTCH2, CAD, NBPF1, NBPF4, BLM, NFIB, PELP1, CEBPB, ARID5B, JUNB, TERT, BCL2, TP53, TNIP1, CYP1A1, GREB1, HOXA10, TRIM16, PMAIP1, SEC61B, AXIN2, UGT2B15, E2F1, ESRRA, NBPF15, CCND1, TFAP2C, NEK6, FBLN2, CDH1, HSPB1, CDKN1A, AVP, CD24, NR5A2, MICB, CYP1B1, RUNX2, FOSL1, TGFA, GSN, POFUT1, VEGFA, ZMYND8, FOXP1, ZFHX3, PLAC1, CCT6B, MDM2, CLDN4, CRH, PBX1, OXT, SPATA2, F12, RET, CD86, TFF1, CYP2C19, FOS, MACROD1, BCL9, RARA, POR, NID2, SP1, CRHBP, PGR, KRT19, SERPINE1, JUN, EGFR, KDR, CEACAM3, NQO1, PTMA, AR, CTNNB1, CYP19A1, BTG2, TYMS, SPARC, CAPN2, MTA3, FOXC1, CXCL12, MB, ABCG2, YWHAQ, NRF1'"
      ]
     },
     "execution_count": 22,
     "metadata": {},
     "output_type": "execute_result"
    }
   ],
   "source": [
    "', '.join(pa.affects('ESR1').gs())"
   ]
  },
  {
   "cell_type": "markdown",
   "metadata": {},
   "source": [
    "You can combine other kind of networks with DoRothEA, for  example to add a protein-protein interaction network using the activity flow dataset defined in `pypath.data_formats`:"
   ]
  },
  {
   "cell_type": "code",
   "execution_count": 23,
   "metadata": {},
   "outputs": [
    {
     "name": "stdout",
     "output_type": "stream",
     "text": [
      "\t:: Loading data from cache previously downloaded from www.uniprot.org\n",
      "\t:: Ready. Resulted `plain text` of type unicode string.                                                                                              \n",
      "\t:: Local file at `/home/denes/.pypath/cache/784f0a43e5831454b1d10db1b9480df7-`.\n",
      " > TRIP\n",
      "\t:: Reading from cache: /home/denes/.pypath/cache/trip.edges.pickle\n"
     ]
    },
    {
     "name": "stderr",
     "output_type": "stream",
     "text": [
      "        Processing nodes -- finished: 100%|██████████| 423/423 [00:00<00:00, 66.6kit/s]\n",
      "        Processing edges -- finished: 100%|██████████| 423/423 [00:00<00:00, 28.0kit/s]\n",
      "        Processing attributes -- finished: 100%|██████████| 423/423 [00:00<00:00, 2.49kit/s]\n"
     ]
    },
    {
     "name": "stdout",
     "output_type": "stream",
     "text": [
      " > SPIKE\n",
      "\t:: Reading from cache: /home/denes/.pypath/cache/spike.edges.pickle\n"
     ]
    },
    {
     "name": "stderr",
     "output_type": "stream",
     "text": [
      "        Processing nodes -- finished: 100%|██████████| 3.72k/3.72k [00:00<00:00, 203kit/s]\n",
      "        Processing edges -- finished: 100%|██████████| 3.72k/3.72k [00:00<00:00, 126kit/s]\n",
      "        Processing attributes -- finished: 100%|██████████| 3.72k/3.72k [00:01<00:00, 2.64kit/s]\n"
     ]
    },
    {
     "name": "stdout",
     "output_type": "stream",
     "text": [
      " > SignaLink3\n",
      "\t:: Reading from cache: /home/denes/.pypath/cache/signalink3.edges.pickle\n"
     ]
    },
    {
     "name": "stderr",
     "output_type": "stream",
     "text": [
      "        Processing nodes -- finished: 100%|██████████| 6.94k/6.94k [00:00<00:00, 361kit/s]\n",
      "        Processing edges -- finished: 100%|██████████| 6.94k/6.94k [00:00<00:00, 98.3kit/s]\n",
      "        Processing attributes -- finished: 100%|██████████| 6.94k/6.94k [00:02<00:00, 2.81kit/s]\n"
     ]
    },
    {
     "name": "stdout",
     "output_type": "stream",
     "text": [
      " > Guide2Pharma\n",
      "\t:: Reading from cache: /home/denes/.pypath/cache/guide2pharma.edges.pickle\n"
     ]
    },
    {
     "name": "stderr",
     "output_type": "stream",
     "text": [
      "        Processing nodes -- finished: 100%|██████████| 266/266 [00:00<00:00, 15.5kit/s]\n",
      "        Processing edges -- finished: 100%|██████████| 266/266 [00:00<00:00, 27.7kit/s]\n",
      "        Processing attributes -- finished: 100%|██████████| 266/266 [00:00<00:00, 1.29kit/s]\n"
     ]
    },
    {
     "name": "stdout",
     "output_type": "stream",
     "text": [
      " > CA1\n",
      "\t:: Reading from cache: /home/denes/.pypath/cache/ca1.edges.pickle\n"
     ]
    },
    {
     "name": "stderr",
     "output_type": "stream",
     "text": [
      "        Processing nodes -- finished: 100%|██████████| 1.88k/1.88k [00:00<00:00, 184kit/s]\n",
      "        Processing edges -- finished: 100%|██████████| 1.88k/1.88k [00:00<00:00, 81.6kit/s]\n",
      "        Processing attributes -- finished: 100%|██████████| 1.88k/1.88k [00:00<00:00, 3.87kit/s]\n"
     ]
    },
    {
     "name": "stdout",
     "output_type": "stream",
     "text": [
      " > ARN\n",
      "\t:: Reading from cache: /home/denes/.pypath/cache/arn.edges.pickle\n"
     ]
    },
    {
     "name": "stderr",
     "output_type": "stream",
     "text": [
      "        Processing nodes -- finished: 100%|██████████| 95.0/95.0 [00:00<00:00, 23.0kit/s]\n",
      "        Processing edges -- finished: 100%|██████████| 95.0/95.0 [00:00<00:00, 15.7kit/s]\n",
      "        Processing attributes -- finished: 100%|██████████| 95.0/95.0 [00:00<00:00, 993it/s]\n"
     ]
    },
    {
     "name": "stdout",
     "output_type": "stream",
     "text": [
      " > NRF2ome\n",
      "\t:: Reading from cache: /home/denes/.pypath/cache/nrf2ome.edges.pickle\n"
     ]
    },
    {
     "name": "stderr",
     "output_type": "stream",
     "text": [
      "        Processing nodes -- finished: 100%|██████████| 109/109 [00:00<00:00, 24.0kit/s]\n",
      "        Processing edges -- finished: 100%|██████████| 109/109 [00:00<00:00, 5.87kit/s]\n",
      "        Processing attributes -- finished: 100%|██████████| 109/109 [00:00<00:00, 1.08kit/s]\n"
     ]
    },
    {
     "name": "stdout",
     "output_type": "stream",
     "text": [
      " > Macrophage\n",
      "\t:: Reading from cache: /home/denes/.pypath/cache/macrophage.edges.pickle\n"
     ]
    },
    {
     "name": "stderr",
     "output_type": "stream",
     "text": [
      "        Processing nodes -- finished: 100%|██████████| 4.85k/4.85k [00:00<00:00, 442kit/s]\n",
      "        Processing edges -- finished: 100%|██████████| 4.85k/4.85k [00:00<00:00, 156kit/s]\n",
      "        Processing attributes -- finished: 100%|██████████| 4.85k/4.85k [00:00<00:00, 6.86kit/s]\n"
     ]
    },
    {
     "name": "stdout",
     "output_type": "stream",
     "text": [
      " > DeathDomain\n",
      "\t:: Reading from cache: /home/denes/.pypath/cache/deathdomain.edges.pickle\n"
     ]
    },
    {
     "name": "stderr",
     "output_type": "stream",
     "text": [
      "        Processing nodes -- finished: 100%|██████████| 236/236 [00:00<00:00, 54.9kit/s]\n",
      "        Processing edges -- finished: 100%|██████████| 236/236 [00:00<00:00, 18.0kit/s]\n",
      "        Processing attributes -- finished: 100%|██████████| 236/236 [00:00<00:00, 580it/s]  \n"
     ]
    },
    {
     "name": "stdout",
     "output_type": "stream",
     "text": [
      " > PDZBase\n",
      "\t:: Reading from cache: /home/denes/.pypath/cache/pdzbase.edges.pickle\n"
     ]
    },
    {
     "name": "stderr",
     "output_type": "stream",
     "text": [
      "        Processing nodes -- finished: 100%|██████████| 133/133 [00:00<00:00, 9.23kit/s]\n",
      "        Processing edges -- finished: 100%|██████████| 133/133 [00:00<00:00, 14.0kit/s]\n",
      "        Processing attributes -- finished: 100%|██████████| 133/133 [00:00<00:00, 1.02kit/s]\n"
     ]
    },
    {
     "name": "stdout",
     "output_type": "stream",
     "text": [
      " > Signor\n",
      "\t:: Loading data from cache previously downloaded from signor.uniroma2.it\n",
      "\t:: Ready. Resulted `plain text` of type file object.                                                                                                 \n",
      "\t:: Local file at `/home/denes/.pypath/cache/a357fe979f74a823bf4a42150a6dcf33-download_entity.php`.\n",
      "\t:: Loading 'genesymbol' to 'swissprot' mapping table\n",
      "\t:: Loading 'genesymbol-syn' to 'swissprot' mapping table\n"
     ]
    },
    {
     "name": "stderr",
     "output_type": "stream",
     "text": [
      "        Processing nodes -- finished: 100%|██████████| 10.1k/10.1k [00:00<00:00, 468kit/s]\n",
      "        Processing edges -- finished: 100%|██████████| 10.1k/10.1k [00:00<00:00, 166kit/s]\n",
      "        Processing attributes -- finished: 100%|██████████| 10.1k/10.1k [00:04<00:00, 3.74kit/s]\n",
      "        Processing nodes -- finished: 100%|██████████| 579/579 [00:00<00:00, 27.9kit/s]\n",
      "        Processing edges -- finished: 100%|██████████| 579/579 [00:00<00:00, 30.6kit/s]\n",
      "Processing attributes: initializing:   0%|          | 0.00/579 [00:00<?, ?it/s]"
     ]
    },
    {
     "name": "stdout",
     "output_type": "stream",
     "text": [
      " > HPMR\n"
     ]
    },
    {
     "name": "stderr",
     "output_type": "stream",
     "text": [
      "        Processing attributes -- finished: 100%|██████████| 579/579 [00:00<00:00, 816it/s]\n"
     ]
    },
    {
     "name": "stdout",
     "output_type": "stream",
     "text": [
      " > CellPhoneDB\n",
      "\t:: Loading data from cache previously downloaded from www.cellphonedb.org\n",
      "\t:: Ready. Resulted `plain text` of type file object.                                                                                                 \n",
      "\t:: Local file at `/home/denes/.pypath/cache/142eb923569634ee61ca1d56843de13a-interactions_cellphonedb.csv`.\n",
      "\t:: Loading data from cache previously downloaded from www.cellphonedb.org\n",
      "\t:: Ready. Resulted `plain text` of type file object.                                                                                                 \n",
      "\t:: Local file at `/home/denes/.pypath/cache/183907e20d3c18bd773b7e085fc3a650-heterodimers.csv`.\n"
     ]
    },
    {
     "name": "stderr",
     "output_type": "stream",
     "text": [
      "        Processing nodes -- finished: 100%|██████████| 148/148 [00:00<00:00, 19.8kit/s]\n",
      "        Processing edges -- finished: 100%|██████████| 148/148 [00:00<00:00, 30.6kit/s]\n",
      "        Processing attributes -- finished: 100%|██████████| 148/148 [00:00<00:00, 722it/s] \n"
     ]
    },
    {
     "name": "stdout",
     "output_type": "stream",
     "text": [
      " > Ramilowski2015\n",
      "\t:: Loading data from cache previously downloaded from media.nature.com\n",
      "\t:: Ready. Resulted `plain text` of type file object.                                                                                                 \n",
      "\t:: Local file at `/home/denes/.pypath/cache/2a72408fb2700d17cff8c9b48701de70-ncomms8866-s3.xlsx`.\n"
     ]
    },
    {
     "name": "stderr",
     "output_type": "stream",
     "text": [
      "        Processing nodes -- finished: 100%|██████████| 341/341 [00:00<00:00, 89.8kit/s]\n",
      "        Processing edges -- finished: 100%|██████████| 341/341 [00:00<00:00, 15.4kit/s]\n",
      "        Processing attributes -- finished: 100%|██████████| 341/341 [00:00<00:00, 822it/s]\n"
     ]
    },
    {
     "name": "stdout",
     "output_type": "stream",
     "text": [
      "\n",
      " :: Comparing with reference lists... done.\n",
      "\n",
      " > 19341 interactions between 5798 nodes\n",
      " from 31 resources have been loaded,\n",
      " for details see the log: ./log/6epsq.log\n"
     ]
    }
   ],
   "source": [
    "pa.load_resources(pypath.data_formats.pathway)"
   ]
  },
  {
   "cell_type": "markdown",
   "metadata": {},
   "source": [
    "Now you have both TF-target and protein-protein interactions in your network. The `type` edge attribute shows the categories of interactions. For example certain pairs of proteins both transcriptionally regulate each other and interact with each other, hence their interaction belongs to both `TF` and `PPI` categories:"
   ]
  },
  {
   "cell_type": "code",
   "execution_count": 31,
   "metadata": {},
   "outputs": [
    {
     "data": {
      "text/plain": [
       "['TF', 'PPI']"
      ]
     },
     "execution_count": 31,
     "metadata": {},
     "output_type": "execute_result"
    }
   ],
   "source": [
    "pa.graph.es[22]['type']"
   ]
  }
 ],
 "metadata": {
  "kernelspec": {
   "display_name": "Python 3",
   "language": "python",
   "name": "python3"
  },
  "language_info": {
   "codemirror_mode": {
    "name": "ipython",
    "version": 3
   },
   "file_extension": ".py",
   "mimetype": "text/x-python",
   "name": "python",
   "nbconvert_exporter": "python",
   "pygments_lexer": "ipython3",
   "version": "3.7.1"
  }
 },
 "nbformat": 4,
 "nbformat_minor": 2
}
